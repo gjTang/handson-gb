{
 "cells": [
  {
   "cell_type": "markdown",
   "metadata": {},
   "source": [
    "# 6장. XGBoost 하이퍼파라미터"
   ]
  },
  {
   "cell_type": "markdown",
   "metadata": {},
   "source": [
    "*아래 링크를 통해 이 노트북을 주피터 노트북 뷰어(nbviewer.org)로 보거나 구글 코랩(colab.research.google.com)에서 실행할 수 있습니다.*\n",
    "\n",
    "<table class=\"tfo-notebook-buttons\" align=\"left\">\n",
    "  <td>\n",
    "    <a target=\"_blank\" href=\"https://nbviewer.org/github/rickiepark/handson-gb/blob/main/Chapter06/XGBoost_Hyperparameters.ipynb\"><img src=\"https://jupyter.org/assets/share.png\" width=\"60\" />주피터 노트북 뷰어로 보기</a>\n",
    "  </td>\n",
    "  <td>\n",
    "    <a target=\"_blank\" href=\"https://colab.research.google.com/github/rickiepark/handson-gb/blob/main/Chapter06/XGBoost_Hyperparameters.ipynb\"><img src=\"https://www.tensorflow.org/images/colab_logo_32px.png\" />구글 코랩(Colab)에서 실행하기</a>\n",
    "  </td>\n",
    "</table>"
   ]
  },
  {
   "cell_type": "code",
   "execution_count": 1,
   "metadata": {
    "execution": {
     "iopub.execute_input": "2022-01-24T04:42:11.960298Z",
     "iopub.status.busy": "2022-01-24T04:42:11.959605Z",
     "iopub.status.idle": "2022-01-24T04:42:11.963398Z",
     "shell.execute_reply": "2022-01-24T04:42:11.963823Z"
    }
   },
   "outputs": [],
   "source": [
    "# 노트북이 코랩에서 실행 중인지 체크합니다.\n",
    "import sys\n",
    "if 'google.colab' in sys.modules:\n",
    "    !pip install -q --upgrade xgboost\n",
    "    !wget -q https://raw.githubusercontent.com/rickiepark/handson-gb/main/Chapter06/heart_disease.csv"
   ]
  },
  {
   "cell_type": "code",
   "execution_count": 2,
   "metadata": {
    "execution": {
     "iopub.execute_input": "2022-01-24T04:42:11.968663Z",
     "iopub.status.busy": "2022-01-24T04:42:11.967958Z",
     "iopub.status.idle": "2022-01-24T04:42:13.039776Z",
     "shell.execute_reply": "2022-01-24T04:42:13.038765Z"
    }
   },
   "outputs": [],
   "source": [
    "# 경고 끄기\n",
    "import warnings\n",
    "warnings.filterwarnings('ignore')\n",
    "\n",
    "import xgboost as xgb\n",
    "xgb.set_config(verbosity=0)"
   ]
  },
  {
   "cell_type": "markdown",
   "metadata": {},
   "source": [
    "## 데이터와 기본 모델 준비하기\n",
    "\n",
    "### 심장 질환 데이터셋"
   ]
  },
  {
   "cell_type": "code",
   "execution_count": 3,
   "metadata": {
    "execution": {
     "iopub.execute_input": "2022-01-24T04:42:13.049227Z",
     "iopub.status.busy": "2022-01-24T04:42:13.048077Z",
     "iopub.status.idle": "2022-01-24T04:42:13.080185Z",
     "shell.execute_reply": "2022-01-24T04:42:13.079539Z"
    },
    "scrolled": true
   },
   "outputs": [
    {
     "data": {
      "text/html": [
       "<div>\n",
       "<style scoped>\n",
       "    .dataframe tbody tr th:only-of-type {\n",
       "        vertical-align: middle;\n",
       "    }\n",
       "\n",
       "    .dataframe tbody tr th {\n",
       "        vertical-align: top;\n",
       "    }\n",
       "\n",
       "    .dataframe thead th {\n",
       "        text-align: right;\n",
       "    }\n",
       "</style>\n",
       "<table border=\"1\" class=\"dataframe\">\n",
       "  <thead>\n",
       "    <tr style=\"text-align: right;\">\n",
       "      <th></th>\n",
       "      <th>age</th>\n",
       "      <th>sex</th>\n",
       "      <th>cp</th>\n",
       "      <th>trestbps</th>\n",
       "      <th>chol</th>\n",
       "      <th>fbs</th>\n",
       "      <th>restecg</th>\n",
       "      <th>thalach</th>\n",
       "      <th>exang</th>\n",
       "      <th>oldpeak</th>\n",
       "      <th>slope</th>\n",
       "      <th>ca</th>\n",
       "      <th>thal</th>\n",
       "      <th>target</th>\n",
       "    </tr>\n",
       "  </thead>\n",
       "  <tbody>\n",
       "    <tr>\n",
       "      <th>0</th>\n",
       "      <td>63</td>\n",
       "      <td>1</td>\n",
       "      <td>3</td>\n",
       "      <td>145</td>\n",
       "      <td>233</td>\n",
       "      <td>1</td>\n",
       "      <td>0</td>\n",
       "      <td>150</td>\n",
       "      <td>0</td>\n",
       "      <td>2.3</td>\n",
       "      <td>0</td>\n",
       "      <td>0</td>\n",
       "      <td>1</td>\n",
       "      <td>1</td>\n",
       "    </tr>\n",
       "    <tr>\n",
       "      <th>1</th>\n",
       "      <td>37</td>\n",
       "      <td>1</td>\n",
       "      <td>2</td>\n",
       "      <td>130</td>\n",
       "      <td>250</td>\n",
       "      <td>0</td>\n",
       "      <td>1</td>\n",
       "      <td>187</td>\n",
       "      <td>0</td>\n",
       "      <td>3.5</td>\n",
       "      <td>0</td>\n",
       "      <td>0</td>\n",
       "      <td>2</td>\n",
       "      <td>1</td>\n",
       "    </tr>\n",
       "    <tr>\n",
       "      <th>2</th>\n",
       "      <td>41</td>\n",
       "      <td>0</td>\n",
       "      <td>1</td>\n",
       "      <td>130</td>\n",
       "      <td>204</td>\n",
       "      <td>0</td>\n",
       "      <td>0</td>\n",
       "      <td>172</td>\n",
       "      <td>0</td>\n",
       "      <td>1.4</td>\n",
       "      <td>2</td>\n",
       "      <td>0</td>\n",
       "      <td>2</td>\n",
       "      <td>1</td>\n",
       "    </tr>\n",
       "    <tr>\n",
       "      <th>3</th>\n",
       "      <td>56</td>\n",
       "      <td>1</td>\n",
       "      <td>1</td>\n",
       "      <td>120</td>\n",
       "      <td>236</td>\n",
       "      <td>0</td>\n",
       "      <td>1</td>\n",
       "      <td>178</td>\n",
       "      <td>0</td>\n",
       "      <td>0.8</td>\n",
       "      <td>2</td>\n",
       "      <td>0</td>\n",
       "      <td>2</td>\n",
       "      <td>1</td>\n",
       "    </tr>\n",
       "    <tr>\n",
       "      <th>4</th>\n",
       "      <td>57</td>\n",
       "      <td>0</td>\n",
       "      <td>0</td>\n",
       "      <td>120</td>\n",
       "      <td>354</td>\n",
       "      <td>0</td>\n",
       "      <td>1</td>\n",
       "      <td>163</td>\n",
       "      <td>1</td>\n",
       "      <td>0.6</td>\n",
       "      <td>2</td>\n",
       "      <td>0</td>\n",
       "      <td>2</td>\n",
       "      <td>1</td>\n",
       "    </tr>\n",
       "  </tbody>\n",
       "</table>\n",
       "</div>"
      ],
      "text/plain": [
       "   age  sex  cp  trestbps  chol  fbs  restecg  thalach  exang  oldpeak  slope  \\\n",
       "0   63    1   3       145   233    1        0      150      0      2.3      0   \n",
       "1   37    1   2       130   250    0        1      187      0      3.5      0   \n",
       "2   41    0   1       130   204    0        0      172      0      1.4      2   \n",
       "3   56    1   1       120   236    0        1      178      0      0.8      2   \n",
       "4   57    0   0       120   354    0        1      163      1      0.6      2   \n",
       "\n",
       "   ca  thal  target  \n",
       "0   0     1       1  \n",
       "1   0     2       1  \n",
       "2   0     2       1  \n",
       "3   0     2       1  \n",
       "4   0     2       1  "
      ]
     },
     "execution_count": 3,
     "metadata": {},
     "output_type": "execute_result"
    }
   ],
   "source": [
    "import pandas as pd\n",
    "df = pd.read_csv('heart_disease.csv')\n",
    "df.head()"
   ]
  },
  {
   "cell_type": "code",
   "execution_count": 4,
   "metadata": {
    "execution": {
     "iopub.execute_input": "2022-01-24T04:42:13.104527Z",
     "iopub.status.busy": "2022-01-24T04:42:13.103692Z",
     "iopub.status.idle": "2022-01-24T04:42:13.106226Z",
     "shell.execute_reply": "2022-01-24T04:42:13.106669Z"
    }
   },
   "outputs": [
    {
     "name": "stdout",
     "output_type": "stream",
     "text": [
      "<class 'pandas.core.frame.DataFrame'>\n",
      "RangeIndex: 303 entries, 0 to 302\n",
      "Data columns (total 14 columns):\n",
      " #   Column    Non-Null Count  Dtype  \n",
      "---  ------    --------------  -----  \n",
      " 0   age       303 non-null    int64  \n",
      " 1   sex       303 non-null    int64  \n",
      " 2   cp        303 non-null    int64  \n",
      " 3   trestbps  303 non-null    int64  \n",
      " 4   chol      303 non-null    int64  \n",
      " 5   fbs       303 non-null    int64  \n",
      " 6   restecg   303 non-null    int64  \n",
      " 7   thalach   303 non-null    int64  \n",
      " 8   exang     303 non-null    int64  \n",
      " 9   oldpeak   303 non-null    float64\n",
      " 10  slope     303 non-null    int64  \n",
      " 11  ca        303 non-null    int64  \n",
      " 12  thal      303 non-null    int64  \n",
      " 13  target    303 non-null    int64  \n",
      "dtypes: float64(1), int64(13)\n",
      "memory usage: 33.3 KB\n"
     ]
    }
   ],
   "source": [
    "df.info()"
   ]
  },
  {
   "cell_type": "markdown",
   "metadata": {},
   "source": [
    "### XGBClassifier"
   ]
  },
  {
   "cell_type": "code",
   "execution_count": 5,
   "metadata": {
    "execution": {
     "iopub.execute_input": "2022-01-24T04:42:13.111090Z",
     "iopub.status.busy": "2022-01-24T04:42:13.110421Z",
     "iopub.status.idle": "2022-01-24T04:42:13.112908Z",
     "shell.execute_reply": "2022-01-24T04:42:13.112340Z"
    }
   },
   "outputs": [],
   "source": [
    "from xgboost import XGBClassifier\n",
    "from sklearn.metrics import accuracy_score"
   ]
  },
  {
   "cell_type": "code",
   "execution_count": 6,
   "metadata": {
    "execution": {
     "iopub.execute_input": "2022-01-24T04:42:13.117859Z",
     "iopub.status.busy": "2022-01-24T04:42:13.117209Z",
     "iopub.status.idle": "2022-01-24T04:42:13.119298Z",
     "shell.execute_reply": "2022-01-24T04:42:13.119709Z"
    }
   },
   "outputs": [],
   "source": [
    "# 데이터를 X와 y로 나눕니다.\n",
    "X = df.iloc[:, :-1]\n",
    "y = df.iloc[:, -1]"
   ]
  },
  {
   "cell_type": "code",
   "execution_count": 7,
   "metadata": {
    "execution": {
     "iopub.execute_input": "2022-01-24T04:42:13.124200Z",
     "iopub.status.busy": "2022-01-24T04:42:13.123562Z",
     "iopub.status.idle": "2022-01-24T04:42:13.126389Z",
     "shell.execute_reply": "2022-01-24T04:42:13.125828Z"
    }
   },
   "outputs": [],
   "source": [
    "model = XGBClassifier(booster='gbtree', objective='binary:logistic')"
   ]
  },
  {
   "cell_type": "code",
   "execution_count": 8,
   "metadata": {
    "execution": {
     "iopub.execute_input": "2022-01-24T04:42:13.132745Z",
     "iopub.status.busy": "2022-01-24T04:42:13.131973Z",
     "iopub.status.idle": "2022-01-24T04:42:14.315958Z",
     "shell.execute_reply": "2022-01-24T04:42:14.315339Z"
    }
   },
   "outputs": [
    {
     "name": "stdout",
     "output_type": "stream",
     "text": [
      "정확도: [0.84 0.85 0.82 0.8  0.77]\n",
      "정확도 평균: 0.81\n"
     ]
    }
   ],
   "source": [
    "# cross_val_score를 임포트합니다.\n",
    "from sklearn.model_selection import cross_val_score\n",
    "\n",
    "# numpy를 임포트합니다.\n",
    "import numpy as np\n",
    "\n",
    "# 교차 검증 점수를 구합니다.\n",
    "scores = cross_val_score(model, X, y, cv=5)\n",
    "\n",
    "# 정확도를 출력합니다.\n",
    "print('정확도:', np.round(scores, 2))\n",
    "\n",
    "# 정확도 평균을 출력합니다.\n",
    "print('정확도 평균: %0.2f' % (scores.mean()))"
   ]
  },
  {
   "cell_type": "markdown",
   "metadata": {},
   "source": [
    "### StratifiedKFold"
   ]
  },
  {
   "cell_type": "code",
   "execution_count": 9,
   "metadata": {
    "execution": {
     "iopub.execute_input": "2022-01-24T04:42:14.321400Z",
     "iopub.status.busy": "2022-01-24T04:42:14.320766Z",
     "iopub.status.idle": "2022-01-24T04:42:14.323915Z",
     "shell.execute_reply": "2022-01-24T04:42:14.323040Z"
    }
   },
   "outputs": [],
   "source": [
    "# GridSearchCV를 임포트합니다.\n",
    "from sklearn.model_selection import StratifiedKFold\n",
    "\n",
    "kfold = StratifiedKFold(n_splits=5, shuffle=True, random_state=2)"
   ]
  },
  {
   "cell_type": "code",
   "execution_count": 10,
   "metadata": {
    "execution": {
     "iopub.execute_input": "2022-01-24T04:42:14.327731Z",
     "iopub.status.busy": "2022-01-24T04:42:14.327033Z",
     "iopub.status.idle": "2022-01-24T04:42:14.341709Z",
     "shell.execute_reply": "2022-01-24T04:42:14.341010Z"
    }
   },
   "outputs": [
    {
     "name": "stdout",
     "output_type": "stream",
     "text": [
      "전체 데이터의 클래스 분포: [138 165]\n",
      "\n",
      "1번째 훈련 폴드: [110 132]\n",
      "1번째 검증 폴드: [28 33]\n",
      "\n",
      "2번째 훈련 폴드: [110 132]\n",
      "2번째 검증 폴드: [28 33]\n",
      "\n",
      "3번째 훈련 폴드: [110 132]\n",
      "3번째 검증 폴드: [28 33]\n",
      "\n",
      "4번째 훈련 폴드: [111 132]\n",
      "4번째 검증 폴드: [27 33]\n",
      "\n",
      "5번째 훈련 폴드: [111 132]\n",
      "5번째 검증 폴드: [27 33]\n",
      "\n"
     ]
    }
   ],
   "source": [
    "print('전체 데이터의 클래스 분포:', np.bincount(y))\n",
    "print()\n",
    "\n",
    "for split_no, (train_idx, test_idx) in enumerate(kfold.split(X, y)):\n",
    "    print('{}번째 훈련 폴드:'.format(split_no+1), np.bincount(y[train_idx]))\n",
    "    print('{}번째 검증 폴드:'.format(split_no+1), np.bincount(y[test_idx]))\n",
    "    print()"
   ]
  },
  {
   "cell_type": "markdown",
   "metadata": {},
   "source": [
    "### 기본 모델"
   ]
  },
  {
   "cell_type": "code",
   "execution_count": 11,
   "metadata": {
    "execution": {
     "iopub.execute_input": "2022-01-24T04:42:14.351327Z",
     "iopub.status.busy": "2022-01-24T04:42:14.350574Z",
     "iopub.status.idle": "2022-01-24T04:42:15.503167Z",
     "shell.execute_reply": "2022-01-24T04:42:15.503833Z"
    }
   },
   "outputs": [
    {
     "name": "stdout",
     "output_type": "stream",
     "text": [
      "정확도: [0.72 0.82 0.75 0.8  0.82]\n",
      "정확도 평균: 0.78\n"
     ]
    }
   ],
   "source": [
    "# 교차 검증 점수를 계산합니다.\n",
    "scores = cross_val_score(model, X, y, cv=kfold)\n",
    "\n",
    "# 정확도를 출력합니다.\n",
    "print('정확도:', np.round(scores, 2))\n",
    "\n",
    "# 정확도 평균을 출력합니다.\n",
    "print('정확도 평균: %0.2f' % (scores.mean()))"
   ]
  },
  {
   "cell_type": "markdown",
   "metadata": {},
   "source": [
    "### GridSearchCV와 RandomizedSearchCV 사용하기"
   ]
  },
  {
   "cell_type": "code",
   "execution_count": 12,
   "metadata": {
    "execution": {
     "iopub.execute_input": "2022-01-24T04:42:15.507977Z",
     "iopub.status.busy": "2022-01-24T04:42:15.507205Z",
     "iopub.status.idle": "2022-01-24T04:42:15.510252Z",
     "shell.execute_reply": "2022-01-24T04:42:15.510666Z"
    }
   },
   "outputs": [],
   "source": [
    "# GridSearchCV를 임포트합니다.\n",
    "from sklearn.model_selection import GridSearchCV, RandomizedSearchCV\n",
    "\n",
    "kfold = StratifiedKFold(n_splits=5, shuffle=True, random_state=2)"
   ]
  },
  {
   "cell_type": "code",
   "execution_count": 13,
   "metadata": {
    "execution": {
     "iopub.execute_input": "2022-01-24T04:42:15.517371Z",
     "iopub.status.busy": "2022-01-24T04:42:15.513365Z",
     "iopub.status.idle": "2022-01-24T04:42:15.519889Z",
     "shell.execute_reply": "2022-01-24T04:42:15.519247Z"
    }
   },
   "outputs": [],
   "source": [
    "def grid_search(params, random=False): \n",
    "\n",
    "    xgb = XGBClassifier(booster='gbtree', objective='binary:logistic', \n",
    "                        random_state=2, verbosity=0, use_label_encoder=False)\n",
    "    \n",
    "    kfold = StratifiedKFold(n_splits=5, shuffle=True, random_state=2)\n",
    "    \n",
    "    if random:\n",
    "        grid = RandomizedSearchCV(xgb, params, cv=kfold, n_iter=20, \n",
    "                                  n_jobs=-1, random_state=2)\n",
    "    else:\n",
    "        grid = GridSearchCV(xgb, params, cv=kfold, n_jobs=-1)\n",
    "    \n",
    "    # X와 y에서 하이퍼파라미터 튜닝을 수행합니다.\n",
    "    grid.fit(X, y)\n",
    "\n",
    "    # 최상의 매개변수를 추출합니다.\n",
    "    best_params = grid.best_params_\n",
    "\n",
    "    # 최상의 매개변수를 출력합니다.\n",
    "    print(\"최상의 매개변수:\", best_params)\n",
    "    \n",
    "    # 최상의 점수를 추출합니다.\n",
    "    best_score = grid.best_score_\n",
    "\n",
    "    # 최상의 점수를 출력합니다.\n",
    "    print(\"최상의 점수: {:.5f}\".format(best_score))"
   ]
  },
  {
   "cell_type": "markdown",
   "metadata": {},
   "source": [
    "## XGBoost 하이퍼파라미터 튜닝\n",
    "\n",
    "### n_estimators"
   ]
  },
  {
   "cell_type": "code",
   "execution_count": 14,
   "metadata": {
    "execution": {
     "iopub.execute_input": "2022-01-24T04:42:15.525972Z",
     "iopub.status.busy": "2022-01-24T04:42:15.525235Z",
     "iopub.status.idle": "2022-01-24T04:58:21.458336Z",
     "shell.execute_reply": "2022-01-24T04:58:21.457776Z"
    }
   },
   "outputs": [
    {
     "name": "stdout",
     "output_type": "stream",
     "text": [
      "최상의 매개변수: {'n_estimators': 100}\n",
      "최상의 점수: 0.78235\n"
     ]
    }
   ],
   "source": [
    "grid_search(params={'n_estimators':[100, 200, 400, 800]})"
   ]
  },
  {
   "cell_type": "markdown",
   "metadata": {},
   "source": [
    "### learning_rate"
   ]
  },
  {
   "cell_type": "code",
   "execution_count": 15,
   "metadata": {
    "execution": {
     "iopub.execute_input": "2022-01-24T04:58:21.465232Z",
     "iopub.status.busy": "2022-01-24T04:58:21.463633Z",
     "iopub.status.idle": "2022-01-24T05:11:22.755042Z",
     "shell.execute_reply": "2022-01-24T05:11:22.755438Z"
    }
   },
   "outputs": [
    {
     "name": "stdout",
     "output_type": "stream",
     "text": [
      "최상의 매개변수: {'learning_rate': 0.05}\n",
      "최상의 점수: 0.79585\n"
     ]
    }
   ],
   "source": [
    "grid_search(params={'learning_rate':[0.01, 0.05, 0.1, 0.2, 0.3, 0.4, 0.5]})"
   ]
  },
  {
   "cell_type": "markdown",
   "metadata": {},
   "source": [
    "### max_depth"
   ]
  },
  {
   "cell_type": "code",
   "execution_count": 16,
   "metadata": {
    "execution": {
     "iopub.execute_input": "2022-01-24T05:11:22.761310Z",
     "iopub.status.busy": "2022-01-24T05:11:22.760684Z",
     "iopub.status.idle": "2022-01-24T05:18:02.668429Z",
     "shell.execute_reply": "2022-01-24T05:18:02.668894Z"
    }
   },
   "outputs": [
    {
     "name": "stdout",
     "output_type": "stream",
     "text": [
      "최상의 매개변수: {'max_depth': 2}\n",
      "최상의 점수: 0.79902\n"
     ]
    }
   ],
   "source": [
    "grid_search(params={'max_depth':[2, 3, 5, 6, 8]})"
   ]
  },
  {
   "cell_type": "markdown",
   "metadata": {},
   "source": [
    "### gamma"
   ]
  },
  {
   "cell_type": "code",
   "execution_count": 17,
   "metadata": {
    "execution": {
     "iopub.execute_input": "2022-01-24T05:18:02.674413Z",
     "iopub.status.busy": "2022-01-24T05:18:02.673816Z",
     "iopub.status.idle": "2022-01-24T05:29:44.871145Z",
     "shell.execute_reply": "2022-01-24T05:29:44.870101Z"
    }
   },
   "outputs": [
    {
     "name": "stdout",
     "output_type": "stream",
     "text": [
      "최상의 매개변수: {'gamma': 0.5}\n",
      "최상의 점수: 0.79574\n"
     ]
    }
   ],
   "source": [
    "grid_search(params={'gamma':[0, 0.01, 0.1, 0.5, 1, 2]})"
   ]
  },
  {
   "cell_type": "markdown",
   "metadata": {},
   "source": [
    "### min_child_weight"
   ]
  },
  {
   "cell_type": "code",
   "execution_count": 18,
   "metadata": {
    "execution": {
     "iopub.execute_input": "2022-01-24T05:29:44.876841Z",
     "iopub.status.busy": "2022-01-24T05:29:44.876212Z",
     "iopub.status.idle": "2022-01-24T05:36:04.484618Z",
     "shell.execute_reply": "2022-01-24T05:36:04.483845Z"
    }
   },
   "outputs": [
    {
     "name": "stdout",
     "output_type": "stream",
     "text": [
      "최상의 매개변수: {'min_child_weight': 5}\n",
      "최상의 점수: 0.81219\n"
     ]
    }
   ],
   "source": [
    "grid_search(params={'min_child_weight':[1, 2, 3, 4, 5]})"
   ]
  },
  {
   "cell_type": "markdown",
   "metadata": {},
   "source": [
    "### subsample"
   ]
  },
  {
   "cell_type": "code",
   "execution_count": 19,
   "metadata": {
    "execution": {
     "iopub.execute_input": "2022-01-24T05:36:04.491214Z",
     "iopub.status.busy": "2022-01-24T05:36:04.490574Z",
     "iopub.status.idle": "2022-01-24T05:43:29.808677Z",
     "shell.execute_reply": "2022-01-24T05:43:29.807720Z"
    }
   },
   "outputs": [
    {
     "name": "stdout",
     "output_type": "stream",
     "text": [
      "최상의 매개변수: {'subsample': 0.8}\n",
      "최상의 점수: 0.79579\n"
     ]
    }
   ],
   "source": [
    "grid_search(params={'subsample':[0.5, 0.7, 0.8, 0.9, 1]})"
   ]
  },
  {
   "cell_type": "markdown",
   "metadata": {},
   "source": [
    "### colsample_bytree"
   ]
  },
  {
   "cell_type": "code",
   "execution_count": 20,
   "metadata": {
    "execution": {
     "iopub.execute_input": "2022-01-24T05:43:29.815081Z",
     "iopub.status.busy": "2022-01-24T05:43:29.814013Z",
     "iopub.status.idle": "2022-01-24T05:51:18.060863Z",
     "shell.execute_reply": "2022-01-24T05:51:18.060191Z"
    }
   },
   "outputs": [
    {
     "name": "stdout",
     "output_type": "stream",
     "text": [
      "최상의 매개변수: {'colsample_bytree': 0.5}\n",
      "최상의 점수: 0.80552\n"
     ]
    }
   ],
   "source": [
    "grid_search(params={'colsample_bytree':[0.5, 0.7, 0.8, 0.9, 1]})"
   ]
  },
  {
   "cell_type": "markdown",
   "metadata": {},
   "source": [
    "## 조기 종료 적용\n",
    "\n",
    "### eval_set과 eval_metric"
   ]
  },
  {
   "cell_type": "code",
   "execution_count": 21,
   "metadata": {
    "execution": {
     "iopub.execute_input": "2022-01-24T05:51:18.067351Z",
     "iopub.status.busy": "2022-01-24T05:51:18.066678Z",
     "iopub.status.idle": "2022-01-24T05:51:18.068870Z",
     "shell.execute_reply": "2022-01-24T05:51:18.069358Z"
    }
   },
   "outputs": [],
   "source": [
    "# train_test_split 함수를 임포트합니다.\n",
    "from sklearn.model_selection import train_test_split\n",
    "\n",
    "# 훈련 세트와 테스트 세트로 나눕니다.\n",
    "X_train, X_test, y_train, y_test = train_test_split(X, y, random_state=2)"
   ]
  },
  {
   "cell_type": "code",
   "execution_count": 22,
   "metadata": {
    "execution": {
     "iopub.execute_input": "2022-01-24T05:51:18.074739Z",
     "iopub.status.busy": "2022-01-24T05:51:18.074084Z",
     "iopub.status.idle": "2022-01-24T05:51:18.673839Z",
     "shell.execute_reply": "2022-01-24T05:51:18.673257Z"
    }
   },
   "outputs": [
    {
     "name": "stdout",
     "output_type": "stream",
     "text": [
      "[0]\tvalidation_0-error:0.15790\n",
      "[1]\tvalidation_0-error:0.10526\n",
      "[2]\tvalidation_0-error:0.11842\n",
      "[3]\tvalidation_0-error:0.13158\n",
      "[4]\tvalidation_0-error:0.11842\n",
      "[5]\tvalidation_0-error:0.14474\n",
      "[6]\tvalidation_0-error:0.14474\n",
      "[7]\tvalidation_0-error:0.14474\n",
      "[8]\tvalidation_0-error:0.14474\n",
      "[9]\tvalidation_0-error:0.14474\n",
      "[10]\tvalidation_0-error:0.14474\n",
      "[11]\tvalidation_0-error:0.15790\n",
      "[12]\tvalidation_0-error:0.15790\n",
      "[13]\tvalidation_0-error:0.17105\n",
      "[14]\tvalidation_0-error:0.17105\n",
      "[15]\tvalidation_0-error:0.17105\n",
      "[16]\tvalidation_0-error:0.15790\n",
      "[17]\tvalidation_0-error:0.17105\n",
      "[18]\tvalidation_0-error:0.15790\n",
      "[19]\tvalidation_0-error:0.17105\n",
      "[20]\tvalidation_0-error:0.17105\n",
      "[21]\tvalidation_0-error:0.17105\n",
      "[22]\tvalidation_0-error:0.18421\n",
      "[23]\tvalidation_0-error:0.18421\n",
      "[24]\tvalidation_0-error:0.17105\n",
      "[25]\tvalidation_0-error:0.18421\n",
      "[26]\tvalidation_0-error:0.18421\n",
      "[27]\tvalidation_0-error:0.18421\n",
      "[28]\tvalidation_0-error:0.18421\n",
      "[29]\tvalidation_0-error:0.18421\n",
      "[30]\tvalidation_0-error:0.18421\n",
      "[31]\tvalidation_0-error:0.18421\n",
      "[32]\tvalidation_0-error:0.18421\n",
      "[33]\tvalidation_0-error:0.18421\n",
      "[34]\tvalidation_0-error:0.18421\n",
      "[35]\tvalidation_0-error:0.18421\n",
      "[36]\tvalidation_0-error:0.18421\n",
      "[37]\tvalidation_0-error:0.18421\n",
      "[38]\tvalidation_0-error:0.18421\n",
      "[39]\tvalidation_0-error:0.18421\n",
      "[40]\tvalidation_0-error:0.18421\n",
      "[41]\tvalidation_0-error:0.18421\n",
      "[42]\tvalidation_0-error:0.18421\n",
      "[43]\tvalidation_0-error:0.17105\n",
      "[44]\tvalidation_0-error:0.18421\n",
      "[45]\tvalidation_0-error:0.17105\n",
      "[46]\tvalidation_0-error:0.18421\n",
      "[47]\tvalidation_0-error:0.18421\n",
      "[48]\tvalidation_0-error:0.17105\n",
      "[49]\tvalidation_0-error:0.15790\n",
      "[50]\tvalidation_0-error:0.17105\n",
      "[51]\tvalidation_0-error:0.17105\n",
      "[52]\tvalidation_0-error:0.15790\n",
      "[53]\tvalidation_0-error:0.17105\n",
      "[54]\tvalidation_0-error:0.17105\n",
      "[55]\tvalidation_0-error:0.17105\n",
      "[56]\tvalidation_0-error:0.17105\n",
      "[57]\tvalidation_0-error:0.17105\n",
      "[58]\tvalidation_0-error:0.17105\n",
      "[59]\tvalidation_0-error:0.17105\n",
      "[60]\tvalidation_0-error:0.17105\n",
      "[61]\tvalidation_0-error:0.17105\n",
      "[62]\tvalidation_0-error:0.17105\n",
      "[63]\tvalidation_0-error:0.17105\n",
      "[64]\tvalidation_0-error:0.17105\n",
      "[65]\tvalidation_0-error:0.17105\n",
      "[66]\tvalidation_0-error:0.18421\n",
      "[67]\tvalidation_0-error:0.18421\n",
      "[68]\tvalidation_0-error:0.18421\n",
      "[69]\tvalidation_0-error:0.18421\n",
      "[70]\tvalidation_0-error:0.18421\n",
      "[71]\tvalidation_0-error:0.18421\n",
      "[72]\tvalidation_0-error:0.18421\n",
      "[73]\tvalidation_0-error:0.18421\n",
      "[74]\tvalidation_0-error:0.17105\n",
      "[75]\tvalidation_0-error:0.18421\n",
      "[76]\tvalidation_0-error:0.17105\n",
      "[77]\tvalidation_0-error:0.18421\n",
      "[78]\tvalidation_0-error:0.15790\n",
      "[79]\tvalidation_0-error:0.17105\n",
      "[80]\tvalidation_0-error:0.15790\n",
      "[81]\tvalidation_0-error:0.15790\n",
      "[82]\tvalidation_0-error:0.15790\n",
      "[83]\tvalidation_0-error:0.15790\n",
      "[84]\tvalidation_0-error:0.15790\n",
      "[85]\tvalidation_0-error:0.15790\n",
      "[86]\tvalidation_0-error:0.15790\n",
      "[87]\tvalidation_0-error:0.15790\n",
      "[88]\tvalidation_0-error:0.15790\n",
      "[89]\tvalidation_0-error:0.15790\n",
      "[90]\tvalidation_0-error:0.15790\n",
      "[91]\tvalidation_0-error:0.15790\n",
      "[92]\tvalidation_0-error:0.15790\n",
      "[93]\tvalidation_0-error:0.17105\n",
      "[94]\tvalidation_0-error:0.17105\n",
      "[95]\tvalidation_0-error:0.17105\n",
      "[96]\tvalidation_0-error:0.17105\n",
      "[97]\tvalidation_0-error:0.17105\n",
      "[98]\tvalidation_0-error:0.17105\n",
      "[99]\tvalidation_0-error:0.17105\n",
      "정확도: 82.89%\n"
     ]
    }
   ],
   "source": [
    "model = XGBClassifier(booster='gbtree', objective='binary:logistic')\n",
    "eval_set = [(X_test, y_test)]\n",
    "eval_metric='error'\n",
    "model.fit(X_train, y_train, eval_metric=eval_metric, \n",
    "          eval_set=eval_set)\n",
    "\n",
    "# 테스트 세트에 대한 예측을 만듭니다.\n",
    "y_pred = model.predict(X_test)\n",
    "# 예측을 평가합니다.\n",
    "accuracy = accuracy_score(y_test, y_pred)\n",
    "print(\"정확도: %.2f%%\" % (accuracy * 100.0))"
   ]
  },
  {
   "cell_type": "markdown",
   "metadata": {},
   "source": [
    "### early_stopping_rounds"
   ]
  },
  {
   "cell_type": "code",
   "execution_count": 23,
   "metadata": {
    "execution": {
     "iopub.execute_input": "2022-01-24T05:51:18.680241Z",
     "iopub.status.busy": "2022-01-24T05:51:18.679293Z",
     "iopub.status.idle": "2022-01-24T05:51:18.783153Z",
     "shell.execute_reply": "2022-01-24T05:51:18.783703Z"
    }
   },
   "outputs": [
    {
     "name": "stdout",
     "output_type": "stream",
     "text": [
      "[0]\tvalidation_0-error:0.15790\n",
      "[1]\tvalidation_0-error:0.10526\n",
      "[2]\tvalidation_0-error:0.11842\n",
      "[3]\tvalidation_0-error:0.13158\n",
      "[4]\tvalidation_0-error:0.11842\n",
      "[5]\tvalidation_0-error:0.14474\n",
      "[6]\tvalidation_0-error:0.14474\n",
      "[7]\tvalidation_0-error:0.14474\n",
      "[8]\tvalidation_0-error:0.14474\n",
      "[9]\tvalidation_0-error:0.14474\n",
      "[10]\tvalidation_0-error:0.14474\n",
      "정확도: 89.47%\n"
     ]
    }
   ],
   "source": [
    "model = XGBClassifier(booster='gbtree', objective='binary:logistic')\n",
    "eval_set = [(X_test, y_test)]\n",
    "eval_metric=\"error\"\n",
    "model.fit(X_train, y_train, eval_metric=eval_metric, eval_set=eval_set, \n",
    "          early_stopping_rounds=10, verbose=True)\n",
    "y_pred = model.predict(X_test)\n",
    "accuracy = accuracy_score(y_test, y_pred)\n",
    "print(\"정확도: %.2f%%\" % (accuracy * 100.0))"
   ]
  },
  {
   "cell_type": "code",
   "execution_count": 24,
   "metadata": {
    "execution": {
     "iopub.execute_input": "2022-01-24T05:51:18.789292Z",
     "iopub.status.busy": "2022-01-24T05:51:18.788586Z",
     "iopub.status.idle": "2022-01-24T05:51:19.308012Z",
     "shell.execute_reply": "2022-01-24T05:51:19.307313Z"
    }
   },
   "outputs": [
    {
     "name": "stdout",
     "output_type": "stream",
     "text": [
      "[0]\tvalidation_0-error:0.15790\n",
      "[1]\tvalidation_0-error:0.10526\n",
      "[2]\tvalidation_0-error:0.11842\n",
      "[3]\tvalidation_0-error:0.13158\n",
      "[4]\tvalidation_0-error:0.11842\n",
      "[5]\tvalidation_0-error:0.14474\n",
      "[6]\tvalidation_0-error:0.14474\n",
      "[7]\tvalidation_0-error:0.14474\n",
      "[8]\tvalidation_0-error:0.14474\n",
      "[9]\tvalidation_0-error:0.14474\n",
      "[10]\tvalidation_0-error:0.14474\n",
      "[11]\tvalidation_0-error:0.15790\n",
      "[12]\tvalidation_0-error:0.15790\n",
      "[13]\tvalidation_0-error:0.17105\n",
      "[14]\tvalidation_0-error:0.17105\n",
      "[15]\tvalidation_0-error:0.17105\n",
      "[16]\tvalidation_0-error:0.15790\n",
      "[17]\tvalidation_0-error:0.17105\n",
      "[18]\tvalidation_0-error:0.15790\n",
      "[19]\tvalidation_0-error:0.17105\n",
      "[20]\tvalidation_0-error:0.17105\n",
      "[21]\tvalidation_0-error:0.17105\n",
      "[22]\tvalidation_0-error:0.18421\n",
      "[23]\tvalidation_0-error:0.18421\n",
      "[24]\tvalidation_0-error:0.17105\n",
      "[25]\tvalidation_0-error:0.18421\n",
      "[26]\tvalidation_0-error:0.18421\n",
      "[27]\tvalidation_0-error:0.18421\n",
      "[28]\tvalidation_0-error:0.18421\n",
      "[29]\tvalidation_0-error:0.18421\n",
      "[30]\tvalidation_0-error:0.18421\n",
      "[31]\tvalidation_0-error:0.18421\n",
      "[32]\tvalidation_0-error:0.18421\n",
      "[33]\tvalidation_0-error:0.18421\n",
      "[34]\tvalidation_0-error:0.18421\n",
      "[35]\tvalidation_0-error:0.18421\n",
      "[36]\tvalidation_0-error:0.18421\n",
      "[37]\tvalidation_0-error:0.18421\n",
      "[38]\tvalidation_0-error:0.18421\n",
      "[39]\tvalidation_0-error:0.18421\n",
      "[40]\tvalidation_0-error:0.18421\n",
      "[41]\tvalidation_0-error:0.18421\n",
      "[42]\tvalidation_0-error:0.18421\n",
      "[43]\tvalidation_0-error:0.17105\n",
      "[44]\tvalidation_0-error:0.18421\n",
      "[45]\tvalidation_0-error:0.17105\n",
      "[46]\tvalidation_0-error:0.18421\n",
      "[47]\tvalidation_0-error:0.18421\n",
      "[48]\tvalidation_0-error:0.17105\n",
      "[49]\tvalidation_0-error:0.15790\n",
      "[50]\tvalidation_0-error:0.17105\n",
      "[51]\tvalidation_0-error:0.17105\n",
      "[52]\tvalidation_0-error:0.15790\n",
      "[53]\tvalidation_0-error:0.17105\n",
      "[54]\tvalidation_0-error:0.17105\n",
      "[55]\tvalidation_0-error:0.17105\n",
      "[56]\tvalidation_0-error:0.17105\n",
      "[57]\tvalidation_0-error:0.17105\n",
      "[58]\tvalidation_0-error:0.17105\n",
      "[59]\tvalidation_0-error:0.17105\n",
      "[60]\tvalidation_0-error:0.17105\n",
      "[61]\tvalidation_0-error:0.17105\n",
      "[62]\tvalidation_0-error:0.17105\n",
      "[63]\tvalidation_0-error:0.17105\n",
      "[64]\tvalidation_0-error:0.17105\n",
      "[65]\tvalidation_0-error:0.17105\n",
      "[66]\tvalidation_0-error:0.18421\n",
      "[67]\tvalidation_0-error:0.18421\n",
      "[68]\tvalidation_0-error:0.18421\n",
      "[69]\tvalidation_0-error:0.18421\n",
      "[70]\tvalidation_0-error:0.18421\n",
      "[71]\tvalidation_0-error:0.18421\n",
      "[72]\tvalidation_0-error:0.18421\n",
      "[73]\tvalidation_0-error:0.18421\n",
      "[74]\tvalidation_0-error:0.17105\n",
      "[75]\tvalidation_0-error:0.18421\n",
      "[76]\tvalidation_0-error:0.17105\n",
      "[77]\tvalidation_0-error:0.18421\n",
      "[78]\tvalidation_0-error:0.15790\n",
      "[79]\tvalidation_0-error:0.17105\n",
      "[80]\tvalidation_0-error:0.15790\n",
      "[81]\tvalidation_0-error:0.15790\n",
      "[82]\tvalidation_0-error:0.15790\n",
      "[83]\tvalidation_0-error:0.15790\n",
      "[84]\tvalidation_0-error:0.15790\n",
      "[85]\tvalidation_0-error:0.15790\n",
      "[86]\tvalidation_0-error:0.15790\n",
      "[87]\tvalidation_0-error:0.15790\n",
      "[88]\tvalidation_0-error:0.15790\n",
      "[89]\tvalidation_0-error:0.15790\n",
      "[90]\tvalidation_0-error:0.15790\n",
      "[91]\tvalidation_0-error:0.15790\n",
      "[92]\tvalidation_0-error:0.15790\n",
      "[93]\tvalidation_0-error:0.17105\n",
      "[94]\tvalidation_0-error:0.17105\n",
      "[95]\tvalidation_0-error:0.17105\n",
      "[96]\tvalidation_0-error:0.17105\n",
      "[97]\tvalidation_0-error:0.17105\n",
      "[98]\tvalidation_0-error:0.17105\n",
      "[99]\tvalidation_0-error:0.17105\n",
      "[100]\tvalidation_0-error:0.17105\n",
      "[101]\tvalidation_0-error:0.17105\n",
      "정확도: 89.47%\n"
     ]
    }
   ],
   "source": [
    "model = XGBClassifier(n_estimators=5000)\n",
    "eval_set = [(X_test, y_test)]\n",
    "eval_metric=\"error\"\n",
    "model.fit(X_train, y_train, eval_metric=eval_metric, eval_set=eval_set, \n",
    "          early_stopping_rounds=100)\n",
    "y_pred = model.predict(X_test)\n",
    "accuracy = accuracy_score(y_test, y_pred)\n",
    "print(\"정확도: %.2f%%\" % (accuracy * 100.0))"
   ]
  },
  {
   "cell_type": "markdown",
   "metadata": {},
   "source": [
    "## 하이퍼파라미터 결합\n",
    "\n",
    "### 하나씩 하이퍼파라미터 조사하기\n",
    "\n",
    "#### n_estimators"
   ]
  },
  {
   "cell_type": "code",
   "execution_count": 25,
   "metadata": {
    "execution": {
     "iopub.execute_input": "2022-01-24T05:51:19.315251Z",
     "iopub.status.busy": "2022-01-24T05:51:19.314336Z",
     "iopub.status.idle": "2022-01-24T05:55:51.799564Z",
     "shell.execute_reply": "2022-01-24T05:55:51.798933Z"
    }
   },
   "outputs": [
    {
     "name": "stdout",
     "output_type": "stream",
     "text": [
      "최상의 매개변수: {'n_estimators': 50}\n",
      "최상의 점수: 0.78907\n"
     ]
    }
   ],
   "source": [
    "grid_search(params={'n_estimators':[2, 25, 50, 75, 100]})"
   ]
  },
  {
   "cell_type": "markdown",
   "metadata": {},
   "source": [
    "#### max_depth"
   ]
  },
  {
   "cell_type": "code",
   "execution_count": 26,
   "metadata": {
    "execution": {
     "iopub.execute_input": "2022-01-24T05:55:51.805652Z",
     "iopub.status.busy": "2022-01-24T05:55:51.804997Z",
     "iopub.status.idle": "2022-01-24T06:00:47.835305Z",
     "shell.execute_reply": "2022-01-24T06:00:47.835878Z"
    }
   },
   "outputs": [
    {
     "name": "stdout",
     "output_type": "stream",
     "text": [
      "최상의 매개변수: {'max_depth': 1, 'n_estimators': 50}\n",
      "최상의 점수: 0.83869\n"
     ]
    }
   ],
   "source": [
    "grid_search(params={'max_depth':[1, 2, 3, 4, 6, 7, 8], \n",
    "                    'n_estimators':[50]})"
   ]
  },
  {
   "cell_type": "code",
   "execution_count": 27,
   "metadata": {
    "execution": {
     "iopub.execute_input": "2022-01-24T06:00:47.841658Z",
     "iopub.status.busy": "2022-01-24T06:00:47.841033Z",
     "iopub.status.idle": "2022-01-24T06:14:54.675516Z",
     "shell.execute_reply": "2022-01-24T06:14:54.674919Z"
    }
   },
   "outputs": [
    {
     "name": "stdout",
     "output_type": "stream",
     "text": [
      "최상의 매개변수: {'max_depth': 1, 'n_estimators': 50}\n",
      "최상의 점수: 0.83869\n"
     ]
    }
   ],
   "source": [
    "grid_search(params={'max_depth':[1, 2, 3, 4, 6, 7, 8], \n",
    "                    'n_estimators':[2, 50, 100]})"
   ]
  },
  {
   "cell_type": "markdown",
   "metadata": {},
   "source": [
    "#### learning_rate"
   ]
  },
  {
   "cell_type": "code",
   "execution_count": 28,
   "metadata": {
    "execution": {
     "iopub.execute_input": "2022-01-24T06:14:54.678953Z",
     "iopub.status.busy": "2022-01-24T06:14:54.678150Z",
     "iopub.status.idle": "2022-01-24T06:16:36.016989Z",
     "shell.execute_reply": "2022-01-24T06:16:36.017413Z"
    }
   },
   "outputs": [
    {
     "name": "stdout",
     "output_type": "stream",
     "text": [
      "최상의 매개변수: {'learning_rate': 0.3, 'max_depth': 1, 'n_estimators': 50}\n",
      "최상의 점수: 0.83869\n"
     ]
    }
   ],
   "source": [
    "grid_search(params={'learning_rate':[0.01, 0.05, 0.1, 0.2, 0.3, 0.4, 0.5], \n",
    "                    'max_depth':[1], 'n_estimators':[50]})"
   ]
  },
  {
   "cell_type": "markdown",
   "metadata": {},
   "source": [
    "#### min_child_weight"
   ]
  },
  {
   "cell_type": "code",
   "execution_count": 29,
   "metadata": {
    "execution": {
     "iopub.execute_input": "2022-01-24T06:16:36.020882Z",
     "iopub.status.busy": "2022-01-24T06:16:36.020137Z",
     "iopub.status.idle": "2022-01-24T06:17:45.854852Z",
     "shell.execute_reply": "2022-01-24T06:17:45.854256Z"
    },
    "scrolled": true
   },
   "outputs": [
    {
     "name": "stdout",
     "output_type": "stream",
     "text": [
      "최상의 매개변수: {'max_depth': 1, 'min_child_weight': 1, 'n_estimators': 50}\n",
      "최상의 점수: 0.83869\n"
     ]
    }
   ],
   "source": [
    "grid_search(params={'min_child_weight':[1, 2, 3, 4, 5], \n",
    "                    'max_depth':[1], 'n_estimators':[50]})"
   ]
  },
  {
   "cell_type": "markdown",
   "metadata": {},
   "source": [
    "#### subsample"
   ]
  },
  {
   "cell_type": "code",
   "execution_count": 30,
   "metadata": {
    "execution": {
     "iopub.execute_input": "2022-01-24T06:17:45.861174Z",
     "iopub.status.busy": "2022-01-24T06:17:45.860203Z",
     "iopub.status.idle": "2022-01-24T06:19:15.604939Z",
     "shell.execute_reply": "2022-01-24T06:19:15.604193Z"
    }
   },
   "outputs": [
    {
     "name": "stdout",
     "output_type": "stream",
     "text": [
      "최상의 매개변수: {'max_depth': 1, 'n_estimators': 50, 'subsample': 1}\n",
      "최상의 점수: 0.83869\n"
     ]
    }
   ],
   "source": [
    "grid_search(params={'subsample':[0.5, 0.6, 0.7, 0.8, 0.9, 1],\n",
    "                    'max_depth':[1], 'n_estimators':[50]})"
   ]
  },
  {
   "cell_type": "code",
   "execution_count": 31,
   "metadata": {
    "execution": {
     "iopub.execute_input": "2022-01-24T06:19:15.611735Z",
     "iopub.status.busy": "2022-01-24T06:19:15.611083Z",
     "iopub.status.idle": "2022-01-24T06:41:08.215720Z",
     "shell.execute_reply": "2022-01-24T06:41:08.215036Z"
    }
   },
   "outputs": [
    {
     "name": "stdout",
     "output_type": "stream",
     "text": [
      "최상의 매개변수: {'learning_rate': 0.5, 'max_depth': 2, 'min_child_weight': 4, 'n_estimators': 2, 'subsample': 0.9}\n",
      "최상의 점수: 0.81224\n"
     ]
    }
   ],
   "source": [
    "grid_search(params={'subsample':[0.5, 0.6, 0.7, 0.8, 0.9, 1], \n",
    "                    'min_child_weight':[1, 2, 3, 4, 5], \n",
    "                    'learning_rate':[0.1, 0.2, 0.3, 0.4, 0.5], \n",
    "                    'max_depth':[1, 2, 3, 4, 5], \n",
    "                    'n_estimators':[2]})"
   ]
  },
  {
   "cell_type": "markdown",
   "metadata": {},
   "source": [
    "### 하이퍼파라미터 조정"
   ]
  },
  {
   "cell_type": "code",
   "execution_count": 32,
   "metadata": {
    "execution": {
     "iopub.execute_input": "2022-01-24T06:41:08.222309Z",
     "iopub.status.busy": "2022-01-24T06:41:08.221648Z",
     "iopub.status.idle": "2022-01-24T06:50:18.089529Z",
     "shell.execute_reply": "2022-01-24T06:50:18.088860Z"
    }
   },
   "outputs": [
    {
     "name": "stdout",
     "output_type": "stream",
     "text": [
      "최상의 매개변수: {'subsample': 0.6, 'n_estimators': 25, 'min_child_weight': 4, 'max_depth': 4, 'learning_rate': 0.5}\n",
      "최상의 점수: 0.82208\n"
     ]
    }
   ],
   "source": [
    "grid_search(params={'subsample':[0.5, 0.6, 0.7, 0.8, 0.9, 1], \n",
    "                    'min_child_weight':[1, 2, 3, 4, 5], \n",
    "                    'learning_rate':[0.1, 0.2, 0.3, 0.4, 0.5], \n",
    "                    'max_depth':[1, 2, 3, 4, 5, None], \n",
    "                    'n_estimators':[2, 25, 50, 75, 100]}, random=True)"
   ]
  },
  {
   "cell_type": "markdown",
   "metadata": {},
   "source": [
    "####  colsample\n",
    "\n",
    "##### colsample_bytree"
   ]
  },
  {
   "cell_type": "code",
   "execution_count": 33,
   "metadata": {
    "execution": {
     "iopub.execute_input": "2022-01-24T06:50:18.095494Z",
     "iopub.status.busy": "2022-01-24T06:50:18.094823Z",
     "iopub.status.idle": "2022-01-24T06:51:45.907114Z",
     "shell.execute_reply": "2022-01-24T06:51:45.906120Z"
    }
   },
   "outputs": [
    {
     "name": "stdout",
     "output_type": "stream",
     "text": [
      "최상의 매개변수: {'colsample_bytree': 1, 'max_depth': 1, 'n_estimators': 50}\n",
      "최상의 점수: 0.83869\n"
     ]
    }
   ],
   "source": [
    "grid_search(params={'colsample_bytree':[0.5, 0.6, 0.7, 0.8, 0.9, 1],\n",
    "                    'max_depth':[1], 'n_estimators':[50]})"
   ]
  },
  {
   "cell_type": "markdown",
   "metadata": {},
   "source": [
    "##### colsample_bylevel"
   ]
  },
  {
   "cell_type": "code",
   "execution_count": 34,
   "metadata": {
    "execution": {
     "iopub.execute_input": "2022-01-24T06:51:45.913972Z",
     "iopub.status.busy": "2022-01-24T06:51:45.912526Z",
     "iopub.status.idle": "2022-01-24T06:53:16.607746Z",
     "shell.execute_reply": "2022-01-24T06:53:16.606809Z"
    }
   },
   "outputs": [
    {
     "name": "stdout",
     "output_type": "stream",
     "text": [
      "최상의 매개변수: {'colsample_bylevel': 1, 'max_depth': 1, 'n_estimators': 50}\n",
      "최상의 점수: 0.83869\n"
     ]
    }
   ],
   "source": [
    "grid_search(params={'colsample_bylevel':[0.5, 0.6, 0.7, 0.8, 0.9, 1],\n",
    "                    'max_depth':[1], 'n_estimators':[50]})"
   ]
  },
  {
   "cell_type": "markdown",
   "metadata": {},
   "source": [
    "##### colsample_bynode"
   ]
  },
  {
   "cell_type": "code",
   "execution_count": 35,
   "metadata": {
    "execution": {
     "iopub.execute_input": "2022-01-24T06:53:16.615589Z",
     "iopub.status.busy": "2022-01-24T06:53:16.613879Z",
     "iopub.status.idle": "2022-01-24T07:46:25.833232Z",
     "shell.execute_reply": "2022-01-24T07:46:25.833645Z"
    }
   },
   "outputs": [
    {
     "name": "stdout",
     "output_type": "stream",
     "text": [
      "최상의 매개변수: {'colsample_bylevel': 0.6, 'colsample_bynode': 0.7, 'colsample_bytree': 0.8, 'max_depth': 1, 'n_estimators': 50}\n",
      "최상의 점수: 0.84852\n"
     ]
    }
   ],
   "source": [
    "grid_search(params={'colsample_bynode':[0.5, 0.6, 0.7, 0.8, 0.9, 1], \n",
    "                    'colsample_bylevel':[0.5, 0.6, 0.7, 0.8, 0.9, 1], \n",
    "                    'colsample_bytree':[0.5, 0.6, 0.7, 0.8, 0.9, 1], \n",
    "                    'max_depth':[1], 'n_estimators':[50]})"
   ]
  },
  {
   "cell_type": "markdown",
   "metadata": {},
   "source": [
    "#### gamma"
   ]
  },
  {
   "cell_type": "code",
   "execution_count": 36,
   "metadata": {
    "execution": {
     "iopub.execute_input": "2022-01-24T07:46:25.840665Z",
     "iopub.status.busy": "2022-01-24T07:46:25.839703Z",
     "iopub.status.idle": "2022-01-24T07:48:20.894537Z",
     "shell.execute_reply": "2022-01-24T07:48:20.893933Z"
    }
   },
   "outputs": [
    {
     "name": "stdout",
     "output_type": "stream",
     "text": [
      "최상의 매개변수: {'colsample_bylevel': 0.9, 'colsample_bynode': 0.5, 'colsample_bytree': 0.8, 'gamma': 0, 'max_depth': 1, 'n_estimators': 50}\n",
      "최상의 점수: 0.83536\n"
     ]
    }
   ],
   "source": [
    "grid_search(params={'gamma':[0, 0.01, 0.05, 0.1, 0.5, 1, 2, 3], \n",
    "                    'colsample_bylevel':[0.9], \n",
    "                    'colsample_bytree':[0.8], \n",
    "                    'colsample_bynode':[0.5], \n",
    "                    'max_depth':[1], 'n_estimators':[50]})"
   ]
  }
 ],
 "metadata": {
  "kernelspec": {
   "display_name": "Python 3 (ipykernel)",
   "language": "python",
   "name": "python3"
  },
  "language_info": {
   "codemirror_mode": {
    "name": "ipython",
    "version": 3
   },
   "file_extension": ".py",
   "mimetype": "text/x-python",
   "name": "python",
   "nbconvert_exporter": "python",
   "pygments_lexer": "ipython3",
   "version": "3.7.3"
  }
 },
 "nbformat": 4,
 "nbformat_minor": 4
}
