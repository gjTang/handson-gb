{
 "cells": [
  {
   "cell_type": "markdown",
   "metadata": {},
   "source": [
    "# 7장. XGBoost로 외계 행성 찾기"
   ]
  },
  {
   "cell_type": "markdown",
   "metadata": {},
   "source": [
    "*아래 링크를 통해 이 노트북을 주피터 노트북 뷰어(nbviewer.org)로 보거나 구글 코랩(colab.research.google.com)에서 실행할 수 있습니다.*\n",
    "\n",
    "<table class=\"tfo-notebook-buttons\" align=\"left\">\n",
    "  <td>\n",
    "    <a target=\"_blank\" href=\"https://nbviewer.org/github/rickiepark/handson-gb/blob/main/Chapter07/Discovering_Exoplanets.ipynb\"><img src=\"https://jupyter.org/assets/share.png\" width=\"60\" />주피터 노트북 뷰어로 보기</a>\n",
    "  </td>\n",
    "  <td>\n",
    "    <a target=\"_blank\" href=\"https://colab.research.google.com/github/rickiepark/handson-gb/blob/main/Chapter07/Discovering_Exoplanets.ipynb\"><img src=\"https://www.tensorflow.org/images/colab_logo_32px.png\" />구글 코랩(Colab)에서 실행하기</a>\n",
    "  </td>\n",
    "</table>"
   ]
  },
  {
   "cell_type": "code",
   "execution_count": 1,
   "metadata": {
    "execution": {
     "iopub.execute_input": "2022-01-23T06:09:47.314994Z",
     "iopub.status.busy": "2022-01-23T06:09:47.308510Z",
     "iopub.status.idle": "2022-01-23T06:09:49.388754Z",
     "shell.execute_reply": "2022-01-23T06:09:49.387974Z"
    }
   },
   "outputs": [
    {
     "name": "stdout",
     "output_type": "stream",
     "text": [
      "Archive:  exoplanets.csv.zip\r\n",
      "  inflating: exoplanets.csv          \r\n"
     ]
    }
   ],
   "source": [
    "# 노트북이 코랩에서 실행 중인지 체크합니다.\n",
    "import sys\n",
    "if 'google.colab' in sys.modules:\n",
    "    !pip install -q --upgrade xgboost\n",
    "    !wget -q https://raw.githubusercontent.com/rickiepark/handson-gb/main/Chapter07/exoplanets.csv.zip\n",
    "\n",
    "!unzip -o exoplanets.csv.zip"
   ]
  },
  {
   "cell_type": "code",
   "execution_count": 2,
   "metadata": {
    "execution": {
     "iopub.execute_input": "2022-01-23T06:09:49.396451Z",
     "iopub.status.busy": "2022-01-23T06:09:49.395070Z",
     "iopub.status.idle": "2022-01-23T06:09:50.017084Z",
     "shell.execute_reply": "2022-01-23T06:09:50.017600Z"
    }
   },
   "outputs": [],
   "source": [
    "# 경고 끄기\n",
    "import warnings\n",
    "warnings.filterwarnings('ignore')\n",
    "\n",
    "import xgboost as xgb\n",
    "xgb.set_config(verbosity=0)"
   ]
  },
  {
   "cell_type": "markdown",
   "metadata": {},
   "source": [
    "## 외계 행성 찾기\n",
    "\n",
    "### 외계 행성 데이터셋"
   ]
  },
  {
   "cell_type": "code",
   "execution_count": 3,
   "metadata": {
    "execution": {
     "iopub.execute_input": "2022-01-23T06:09:50.021071Z",
     "iopub.status.busy": "2022-01-23T06:09:50.020409Z",
     "iopub.status.idle": "2022-01-23T06:09:50.391274Z",
     "shell.execute_reply": "2022-01-23T06:09:50.391778Z"
    }
   },
   "outputs": [],
   "source": [
    "import pandas as pd\n",
    "df = pd.read_csv('exoplanets.csv', nrows=400)"
   ]
  },
  {
   "cell_type": "code",
   "execution_count": 4,
   "metadata": {
    "execution": {
     "iopub.execute_input": "2022-01-23T06:09:50.400400Z",
     "iopub.status.busy": "2022-01-23T06:09:50.399742Z",
     "iopub.status.idle": "2022-01-23T06:09:50.423253Z",
     "shell.execute_reply": "2022-01-23T06:09:50.423714Z"
    }
   },
   "outputs": [
    {
     "data": {
      "text/html": [
       "<div>\n",
       "<style scoped>\n",
       "    .dataframe tbody tr th:only-of-type {\n",
       "        vertical-align: middle;\n",
       "    }\n",
       "\n",
       "    .dataframe tbody tr th {\n",
       "        vertical-align: top;\n",
       "    }\n",
       "\n",
       "    .dataframe thead th {\n",
       "        text-align: right;\n",
       "    }\n",
       "</style>\n",
       "<table border=\"1\" class=\"dataframe\">\n",
       "  <thead>\n",
       "    <tr style=\"text-align: right;\">\n",
       "      <th></th>\n",
       "      <th>LABEL</th>\n",
       "      <th>FLUX.1</th>\n",
       "      <th>FLUX.2</th>\n",
       "      <th>FLUX.3</th>\n",
       "      <th>FLUX.4</th>\n",
       "      <th>FLUX.5</th>\n",
       "      <th>FLUX.6</th>\n",
       "      <th>FLUX.7</th>\n",
       "      <th>FLUX.8</th>\n",
       "      <th>FLUX.9</th>\n",
       "      <th>...</th>\n",
       "      <th>FLUX.3188</th>\n",
       "      <th>FLUX.3189</th>\n",
       "      <th>FLUX.3190</th>\n",
       "      <th>FLUX.3191</th>\n",
       "      <th>FLUX.3192</th>\n",
       "      <th>FLUX.3193</th>\n",
       "      <th>FLUX.3194</th>\n",
       "      <th>FLUX.3195</th>\n",
       "      <th>FLUX.3196</th>\n",
       "      <th>FLUX.3197</th>\n",
       "    </tr>\n",
       "  </thead>\n",
       "  <tbody>\n",
       "    <tr>\n",
       "      <th>0</th>\n",
       "      <td>2</td>\n",
       "      <td>93.85</td>\n",
       "      <td>83.81</td>\n",
       "      <td>20.10</td>\n",
       "      <td>-26.98</td>\n",
       "      <td>-39.56</td>\n",
       "      <td>-124.71</td>\n",
       "      <td>-135.18</td>\n",
       "      <td>-96.27</td>\n",
       "      <td>-79.89</td>\n",
       "      <td>...</td>\n",
       "      <td>-78.07</td>\n",
       "      <td>-102.15</td>\n",
       "      <td>-102.15</td>\n",
       "      <td>25.13</td>\n",
       "      <td>48.57</td>\n",
       "      <td>92.54</td>\n",
       "      <td>39.32</td>\n",
       "      <td>61.42</td>\n",
       "      <td>5.08</td>\n",
       "      <td>-39.54</td>\n",
       "    </tr>\n",
       "    <tr>\n",
       "      <th>1</th>\n",
       "      <td>2</td>\n",
       "      <td>-38.88</td>\n",
       "      <td>-33.83</td>\n",
       "      <td>-58.54</td>\n",
       "      <td>-40.09</td>\n",
       "      <td>-79.31</td>\n",
       "      <td>-72.81</td>\n",
       "      <td>-86.55</td>\n",
       "      <td>-85.33</td>\n",
       "      <td>-83.97</td>\n",
       "      <td>...</td>\n",
       "      <td>-3.28</td>\n",
       "      <td>-32.21</td>\n",
       "      <td>-32.21</td>\n",
       "      <td>-24.89</td>\n",
       "      <td>-4.86</td>\n",
       "      <td>0.76</td>\n",
       "      <td>-11.70</td>\n",
       "      <td>6.46</td>\n",
       "      <td>16.00</td>\n",
       "      <td>19.93</td>\n",
       "    </tr>\n",
       "    <tr>\n",
       "      <th>2</th>\n",
       "      <td>2</td>\n",
       "      <td>532.64</td>\n",
       "      <td>535.92</td>\n",
       "      <td>513.73</td>\n",
       "      <td>496.92</td>\n",
       "      <td>456.45</td>\n",
       "      <td>466.00</td>\n",
       "      <td>464.50</td>\n",
       "      <td>486.39</td>\n",
       "      <td>436.56</td>\n",
       "      <td>...</td>\n",
       "      <td>-71.69</td>\n",
       "      <td>13.31</td>\n",
       "      <td>13.31</td>\n",
       "      <td>-29.89</td>\n",
       "      <td>-20.88</td>\n",
       "      <td>5.06</td>\n",
       "      <td>-11.80</td>\n",
       "      <td>-28.91</td>\n",
       "      <td>-70.02</td>\n",
       "      <td>-96.67</td>\n",
       "    </tr>\n",
       "    <tr>\n",
       "      <th>3</th>\n",
       "      <td>2</td>\n",
       "      <td>326.52</td>\n",
       "      <td>347.39</td>\n",
       "      <td>302.35</td>\n",
       "      <td>298.13</td>\n",
       "      <td>317.74</td>\n",
       "      <td>312.70</td>\n",
       "      <td>322.33</td>\n",
       "      <td>311.31</td>\n",
       "      <td>312.42</td>\n",
       "      <td>...</td>\n",
       "      <td>5.71</td>\n",
       "      <td>-3.73</td>\n",
       "      <td>-3.73</td>\n",
       "      <td>30.05</td>\n",
       "      <td>20.03</td>\n",
       "      <td>-12.67</td>\n",
       "      <td>-8.77</td>\n",
       "      <td>-17.31</td>\n",
       "      <td>-17.35</td>\n",
       "      <td>13.98</td>\n",
       "    </tr>\n",
       "    <tr>\n",
       "      <th>4</th>\n",
       "      <td>2</td>\n",
       "      <td>-1107.21</td>\n",
       "      <td>-1112.59</td>\n",
       "      <td>-1118.95</td>\n",
       "      <td>-1095.10</td>\n",
       "      <td>-1057.55</td>\n",
       "      <td>-1034.48</td>\n",
       "      <td>-998.34</td>\n",
       "      <td>-1022.71</td>\n",
       "      <td>-989.57</td>\n",
       "      <td>...</td>\n",
       "      <td>-594.37</td>\n",
       "      <td>-401.66</td>\n",
       "      <td>-401.66</td>\n",
       "      <td>-357.24</td>\n",
       "      <td>-443.76</td>\n",
       "      <td>-438.54</td>\n",
       "      <td>-399.71</td>\n",
       "      <td>-384.65</td>\n",
       "      <td>-411.79</td>\n",
       "      <td>-510.54</td>\n",
       "    </tr>\n",
       "  </tbody>\n",
       "</table>\n",
       "<p>5 rows × 3198 columns</p>\n",
       "</div>"
      ],
      "text/plain": [
       "   LABEL   FLUX.1   FLUX.2   FLUX.3   FLUX.4   FLUX.5   FLUX.6  FLUX.7  \\\n",
       "0      2    93.85    83.81    20.10   -26.98   -39.56  -124.71 -135.18   \n",
       "1      2   -38.88   -33.83   -58.54   -40.09   -79.31   -72.81  -86.55   \n",
       "2      2   532.64   535.92   513.73   496.92   456.45   466.00  464.50   \n",
       "3      2   326.52   347.39   302.35   298.13   317.74   312.70  322.33   \n",
       "4      2 -1107.21 -1112.59 -1118.95 -1095.10 -1057.55 -1034.48 -998.34   \n",
       "\n",
       "    FLUX.8  FLUX.9  ...  FLUX.3188  FLUX.3189  FLUX.3190  FLUX.3191  \\\n",
       "0   -96.27  -79.89  ...     -78.07    -102.15    -102.15      25.13   \n",
       "1   -85.33  -83.97  ...      -3.28     -32.21     -32.21     -24.89   \n",
       "2   486.39  436.56  ...     -71.69      13.31      13.31     -29.89   \n",
       "3   311.31  312.42  ...       5.71      -3.73      -3.73      30.05   \n",
       "4 -1022.71 -989.57  ...    -594.37    -401.66    -401.66    -357.24   \n",
       "\n",
       "   FLUX.3192  FLUX.3193  FLUX.3194  FLUX.3195  FLUX.3196  FLUX.3197  \n",
       "0      48.57      92.54      39.32      61.42       5.08     -39.54  \n",
       "1      -4.86       0.76     -11.70       6.46      16.00      19.93  \n",
       "2     -20.88       5.06     -11.80     -28.91     -70.02     -96.67  \n",
       "3      20.03     -12.67      -8.77     -17.31     -17.35      13.98  \n",
       "4    -443.76    -438.54    -399.71    -384.65    -411.79    -510.54  \n",
       "\n",
       "[5 rows x 3198 columns]"
      ]
     },
     "execution_count": 4,
     "metadata": {},
     "output_type": "execute_result"
    }
   ],
   "source": [
    "df.head()"
   ]
  },
  {
   "cell_type": "code",
   "execution_count": 5,
   "metadata": {
    "execution": {
     "iopub.execute_input": "2022-01-23T06:09:50.426947Z",
     "iopub.status.busy": "2022-01-23T06:09:50.426314Z",
     "iopub.status.idle": "2022-01-23T06:09:50.431173Z",
     "shell.execute_reply": "2022-01-23T06:09:50.431576Z"
    }
   },
   "outputs": [
    {
     "data": {
      "text/plain": [
       "1    363\n",
       "2     37\n",
       "Name: LABEL, dtype: int64"
      ]
     },
     "execution_count": 5,
     "metadata": {},
     "output_type": "execute_result"
    }
   ],
   "source": [
    "df['LABEL'].value_counts()"
   ]
  },
  {
   "cell_type": "markdown",
   "metadata": {},
   "source": [
    "### 그래프 시각화"
   ]
  },
  {
   "cell_type": "code",
   "execution_count": 6,
   "metadata": {
    "execution": {
     "iopub.execute_input": "2022-01-23T06:09:50.434601Z",
     "iopub.status.busy": "2022-01-23T06:09:50.433957Z",
     "iopub.status.idle": "2022-01-23T06:09:51.189165Z",
     "shell.execute_reply": "2022-01-23T06:09:51.189764Z"
    }
   },
   "outputs": [],
   "source": [
    "import matplotlib.pyplot as plt\n",
    "import numpy as np\n",
    "import seaborn as sns\n",
    "sns.set()\n",
    "\n",
    "X = df.iloc[:,1:]\n",
    "y = df.iloc[:,0]\n",
    "\n",
    "def light_plot(index):\n",
    "    y_vals = X.iloc[index]\n",
    "    x_vals = np.arange(len(y_vals))\n",
    "    plt.figure(figsize=(15,8))\n",
    "    plt.xlabel('Number of Observations')\n",
    "    plt.ylabel('Light Flux')\n",
    "    plt.title('Light Plot ' + str(index), size=15)\n",
    "    plt.plot(x_vals, y_vals)\n",
    "    plt.show()"
   ]
  },
  {
   "cell_type": "code",
   "execution_count": 7,
   "metadata": {
    "execution": {
     "iopub.execute_input": "2022-01-23T06:09:51.197995Z",
     "iopub.status.busy": "2022-01-23T06:09:51.196944Z",
     "iopub.status.idle": "2022-01-23T06:09:51.395964Z",
     "shell.execute_reply": "2022-01-23T06:09:51.396439Z"
    }
   },
   "outputs": [
    {
     "data": {
      "image/png": "[encoded data removed]",
      "text/plain": [
       "<Figure size 1080x576 with 1 Axes>"
      ]
     },
     "metadata": {},
     "output_type": "display_data"
    }
   ],
   "source": [
    "light_plot(0)"
   ]
  },
  {
   "cell_type": "code",
   "execution_count": 8,
   "metadata": {
    "execution": {
     "iopub.execute_input": "2022-01-23T06:09:51.400306Z",
     "iopub.status.busy": "2022-01-23T06:09:51.399377Z",
     "iopub.status.idle": "2022-01-23T06:09:51.563768Z",
     "shell.execute_reply": "2022-01-23T06:09:51.564222Z"
    }
   },
   "outputs": [
    {
     "data": {
      "image/png": "[encoded data removed]",
      "text/plain": [
       "<Figure size 1080x576 with 1 Axes>"
      ]
     },
     "metadata": {},
     "output_type": "display_data"
    }
   ],
   "source": [
    "light_plot(37)"
   ]
  },
  {
   "cell_type": "code",
   "execution_count": 9,
   "metadata": {
    "execution": {
     "iopub.execute_input": "2022-01-23T06:09:51.585208Z",
     "iopub.status.busy": "2022-01-23T06:09:51.567066Z",
     "iopub.status.idle": "2022-01-23T06:09:51.753907Z",
     "shell.execute_reply": "2022-01-23T06:09:51.754380Z"
    }
   },
   "outputs": [
    {
     "data": {
      "image/png": "[encoded data removed]",
      "text/plain": [
       "<Figure size 1080x576 with 1 Axes>"
      ]
     },
     "metadata": {},
     "output_type": "display_data"
    }
   ],
   "source": [
    "light_plot(1)"
   ]
  },
  {
   "cell_type": "markdown",
   "metadata": {},
   "source": [
    "### 데이터 준비"
   ]
  },
  {
   "cell_type": "code",
   "execution_count": 10,
   "metadata": {
    "execution": {
     "iopub.execute_input": "2022-01-23T06:09:51.865775Z",
     "iopub.status.busy": "2022-01-23T06:09:51.791032Z",
     "iopub.status.idle": "2022-01-23T06:09:51.934193Z",
     "shell.execute_reply": "2022-01-23T06:09:51.933616Z"
    }
   },
   "outputs": [
    {
     "name": "stdout",
     "output_type": "stream",
     "text": [
      "<class 'pandas.core.frame.DataFrame'>\n",
      "RangeIndex: 400 entries, 0 to 399\n",
      "Columns: 3198 entries, LABEL to FLUX.3197\n",
      "dtypes: float64(3197), int64(1)\n",
      "memory usage: 9.8 MB\n"
     ]
    }
   ],
   "source": [
    "df.info()"
   ]
  },
  {
   "cell_type": "code",
   "execution_count": 11,
   "metadata": {
    "execution": {
     "iopub.execute_input": "2022-01-23T06:09:51.938004Z",
     "iopub.status.busy": "2022-01-23T06:09:51.937368Z",
     "iopub.status.idle": "2022-01-23T06:09:51.949799Z",
     "shell.execute_reply": "2022-01-23T06:09:51.950236Z"
    }
   },
   "outputs": [
    {
     "data": {
      "text/plain": [
       "0"
      ]
     },
     "execution_count": 11,
     "metadata": {},
     "output_type": "execute_result"
    }
   ],
   "source": [
    "# 누락된 값의 개수를 셉니다.\n",
    "df.isnull().sum().sum()"
   ]
  },
  {
   "cell_type": "markdown",
   "metadata": {},
   "source": [
    "### 초기 XGBClassifier"
   ]
  },
  {
   "cell_type": "code",
   "execution_count": 12,
   "metadata": {
    "execution": {
     "iopub.execute_input": "2022-01-23T06:09:51.963209Z",
     "iopub.status.busy": "2022-01-23T06:09:51.962428Z",
     "iopub.status.idle": "2022-01-23T06:09:51.964673Z",
     "shell.execute_reply": "2022-01-23T06:09:51.964137Z"
    }
   },
   "outputs": [],
   "source": [
    "# XGBRegressor를 임포트합니다.\n",
    "from xgboost import XGBClassifier\n",
    "\n",
    "# accuracy_score를 임포트합니다.\n",
    "from sklearn.metrics import accuracy_score\n",
    "\n",
    "# train_test_split를 임포트합니다.\n",
    "from sklearn.model_selection import train_test_split\n",
    "\n",
    "# 데이터를 훈련 세트와 테스트 세트로 나눕니다.\n",
    "X_train, X_test, y_train, y_test = train_test_split(X, y, random_state=2)"
   ]
  },
  {
   "cell_type": "code",
   "execution_count": 13,
   "metadata": {
    "execution": {
     "iopub.execute_input": "2022-01-23T06:09:51.970649Z",
     "iopub.status.busy": "2022-01-23T06:09:51.969953Z",
     "iopub.status.idle": "2022-01-23T06:09:53.872921Z",
     "shell.execute_reply": "2022-01-23T06:09:53.873427Z"
    }
   },
   "outputs": [
    {
     "name": "stdout",
     "output_type": "stream",
     "text": [
      "점수: 0.89\n"
     ]
    }
   ],
   "source": [
    "# XGBClassifier를 초기화합니다.\n",
    "model = XGBClassifier(booster='gbtree')\n",
    "\n",
    "# 훈련 세트로 모델을 훈련합니다.\n",
    "model.fit(X_train, y_train)\n",
    "\n",
    "# 테스트 세트에 대한 예측을 만듭니다.\n",
    "y_pred = model.predict(X_test)\n",
    "\n",
    "score = accuracy_score(y_pred, y_test)\n",
    "\n",
    "print('점수: ' + str(score))"
   ]
  },
  {
   "cell_type": "markdown",
   "metadata": {},
   "source": [
    "## 오차 행렬 분석하기\n",
    "\n",
    "### confusion_matrix"
   ]
  },
  {
   "cell_type": "code",
   "execution_count": 14,
   "metadata": {
    "execution": {
     "iopub.execute_input": "2022-01-23T06:09:53.878542Z",
     "iopub.status.busy": "2022-01-23T06:09:53.876040Z",
     "iopub.status.idle": "2022-01-23T06:09:53.883298Z",
     "shell.execute_reply": "2022-01-23T06:09:53.882698Z"
    }
   },
   "outputs": [
    {
     "data": {
      "text/plain": [
       "array([[86,  2],\n",
       "       [ 9,  3]])"
      ]
     },
     "execution_count": 14,
     "metadata": {},
     "output_type": "execute_result"
    }
   ],
   "source": [
    "from sklearn.metrics import confusion_matrix\n",
    "confusion_matrix(y_test, y_pred)"
   ]
  },
  {
   "cell_type": "markdown",
   "metadata": {},
   "source": [
    "### classification_report"
   ]
  },
  {
   "cell_type": "code",
   "execution_count": 15,
   "metadata": {
    "execution": {
     "iopub.execute_input": "2022-01-23T06:09:53.888722Z",
     "iopub.status.busy": "2022-01-23T06:09:53.887935Z",
     "iopub.status.idle": "2022-01-23T06:09:53.893238Z",
     "shell.execute_reply": "2022-01-23T06:09:53.893702Z"
    },
    "scrolled": true
   },
   "outputs": [
    {
     "name": "stdout",
     "output_type": "stream",
     "text": [
      "              precision    recall  f1-score   support\n",
      "\n",
      "           1       0.91      0.98      0.94        88\n",
      "           2       0.60      0.25      0.35        12\n",
      "\n",
      "    accuracy                           0.89       100\n",
      "   macro avg       0.75      0.61      0.65       100\n",
      "weighted avg       0.87      0.89      0.87       100\n",
      "\n"
     ]
    }
   ],
   "source": [
    "from sklearn.metrics import classification_report\n",
    "print(classification_report(y_test, y_pred))"
   ]
  },
  {
   "cell_type": "markdown",
   "metadata": {},
   "source": [
    "### 다른 측정 방법\n",
    "\n",
    "####  recall_score"
   ]
  },
  {
   "cell_type": "code",
   "execution_count": 16,
   "metadata": {
    "execution": {
     "iopub.execute_input": "2022-01-23T06:09:53.900205Z",
     "iopub.status.busy": "2022-01-23T06:09:53.898855Z",
     "iopub.status.idle": "2022-01-23T06:09:53.902434Z",
     "shell.execute_reply": "2022-01-23T06:09:53.902870Z"
    }
   },
   "outputs": [
    {
     "data": {
      "text/plain": [
       "0.25"
      ]
     },
     "execution_count": 16,
     "metadata": {},
     "output_type": "execute_result"
    }
   ],
   "source": [
    "from sklearn.metrics import recall_score\n",
    "recall_score(y_test, y_pred, pos_label=2)"
   ]
  },
  {
   "cell_type": "markdown",
   "metadata": {},
   "source": [
    "## 불균형 데이터 리샘플링\n",
    "\n",
    "### 언더샘플링\n",
    "\n",
    "#### xgb_clf 함수"
   ]
  },
  {
   "cell_type": "code",
   "execution_count": 17,
   "metadata": {
    "execution": {
     "iopub.execute_input": "2022-01-23T06:09:53.908649Z",
     "iopub.status.busy": "2022-01-23T06:09:53.907936Z",
     "iopub.status.idle": "2022-01-23T06:09:53.910199Z",
     "shell.execute_reply": "2022-01-23T06:09:53.909673Z"
    }
   },
   "outputs": [],
   "source": [
    "def xgb_clf(model, nrows):\n",
    "\n",
    "    df = pd.read_csv('exoplanets.csv', nrows=nrows)\n",
    "    # 데이터를 X와 y로 나눕니다.\n",
    "    X = df.iloc[:,1:]\n",
    "    y = df.iloc[:,0]\n",
    "\n",
    "    # 데이터를 훈련 세트와 테스트 세트로 나눕니다.\n",
    "    X_train, X_test, y_train, y_test = train_test_split(X, y, random_state=2)\n",
    "\n",
    "    # 훈련 세트에서 모델을 훈련합니다.\n",
    "    model.fit(X_train, y_train)\n",
    "\n",
    "    # 테스트 세트에 대한 예측을 만듭니다.\n",
    "    y_pred = model.predict(X_test)\n",
    "\n",
    "    score = recall_score(y_test, y_pred, pos_label=2)\n",
    "    \n",
    "    print(confusion_matrix(y_test, y_pred))\n",
    "    \n",
    "    print(classification_report(y_test, y_pred))\n",
    "        \n",
    "    return score"
   ]
  },
  {
   "cell_type": "markdown",
   "metadata": {},
   "source": [
    "#### 언더샘플링 테스트"
   ]
  },
  {
   "cell_type": "code",
   "execution_count": 18,
   "metadata": {
    "execution": {
     "iopub.execute_input": "2022-01-23T06:09:53.914429Z",
     "iopub.status.busy": "2022-01-23T06:09:53.913801Z",
     "iopub.status.idle": "2022-01-23T06:09:57.849095Z",
     "shell.execute_reply": "2022-01-23T06:09:57.848487Z"
    },
    "scrolled": true
   },
   "outputs": [
    {
     "name": "stdout",
     "output_type": "stream",
     "text": [
      "[[189   1]\n",
      " [  9   1]]\n",
      "              precision    recall  f1-score   support\n",
      "\n",
      "           1       0.95      0.99      0.97       190\n",
      "           2       0.50      0.10      0.17        10\n",
      "\n",
      "    accuracy                           0.95       200\n",
      "   macro avg       0.73      0.55      0.57       200\n",
      "weighted avg       0.93      0.95      0.93       200\n",
      "\n"
     ]
    },
    {
     "data": {
      "text/plain": [
       "0.1"
      ]
     },
     "execution_count": 18,
     "metadata": {},
     "output_type": "execute_result"
    }
   ],
   "source": [
    "xgb_clf(XGBClassifier(), nrows=800)"
   ]
  },
  {
   "cell_type": "code",
   "execution_count": 19,
   "metadata": {
    "execution": {
     "iopub.execute_input": "2022-01-23T06:09:57.854005Z",
     "iopub.status.busy": "2022-01-23T06:09:57.853351Z",
     "iopub.status.idle": "2022-01-23T06:09:59.419553Z",
     "shell.execute_reply": "2022-01-23T06:09:59.420064Z"
    }
   },
   "outputs": [
    {
     "name": "stdout",
     "output_type": "stream",
     "text": [
      "[[37  0]\n",
      " [ 8  5]]\n",
      "              precision    recall  f1-score   support\n",
      "\n",
      "           1       0.82      1.00      0.90        37\n",
      "           2       1.00      0.38      0.56        13\n",
      "\n",
      "    accuracy                           0.84        50\n",
      "   macro avg       0.91      0.69      0.73        50\n",
      "weighted avg       0.87      0.84      0.81        50\n",
      "\n"
     ]
    },
    {
     "data": {
      "text/plain": [
       "0.38461538461538464"
      ]
     },
     "execution_count": 19,
     "metadata": {},
     "output_type": "execute_result"
    }
   ],
   "source": [
    "xgb_clf(XGBClassifier(), nrows=200)"
   ]
  },
  {
   "cell_type": "code",
   "execution_count": 20,
   "metadata": {
    "execution": {
     "iopub.execute_input": "2022-01-23T06:09:59.424543Z",
     "iopub.status.busy": "2022-01-23T06:09:59.423831Z",
     "iopub.status.idle": "2022-01-23T06:10:00.649397Z",
     "shell.execute_reply": "2022-01-23T06:10:00.649855Z"
    }
   },
   "outputs": [
    {
     "name": "stdout",
     "output_type": "stream",
     "text": [
      "[[6 2]\n",
      " [5 6]]\n",
      "              precision    recall  f1-score   support\n",
      "\n",
      "           1       0.55      0.75      0.63         8\n",
      "           2       0.75      0.55      0.63        11\n",
      "\n",
      "    accuracy                           0.63        19\n",
      "   macro avg       0.65      0.65      0.63        19\n",
      "weighted avg       0.66      0.63      0.63        19\n",
      "\n"
     ]
    },
    {
     "data": {
      "text/plain": [
       "0.5454545454545454"
      ]
     },
     "execution_count": 20,
     "metadata": {},
     "output_type": "execute_result"
    }
   ],
   "source": [
    "xgb_clf(XGBClassifier(), nrows=74)"
   ]
  },
  {
   "cell_type": "markdown",
   "metadata": {},
   "source": [
    "### 오버샘플링"
   ]
  },
  {
   "cell_type": "code",
   "execution_count": 21,
   "metadata": {
    "execution": {
     "iopub.execute_input": "2022-01-23T06:10:00.657805Z",
     "iopub.status.busy": "2022-01-23T06:10:00.657151Z",
     "iopub.status.idle": "2022-01-23T06:10:00.659363Z",
     "shell.execute_reply": "2022-01-23T06:10:00.658711Z"
    }
   },
   "outputs": [],
   "source": [
    "df_train = pd.merge(y_train, X_train, left_index=True, right_index=True)"
   ]
  },
  {
   "cell_type": "code",
   "execution_count": 22,
   "metadata": {
    "execution": {
     "iopub.execute_input": "2022-01-23T06:10:00.666437Z",
     "iopub.status.busy": "2022-01-23T06:10:00.665610Z",
     "iopub.status.idle": "2022-01-23T06:10:00.682435Z",
     "shell.execute_reply": "2022-01-23T06:10:00.683077Z"
    }
   },
   "outputs": [
    {
     "data": {
      "text/plain": [
       "1.0    275\n",
       "2.0    250\n",
       "Name: LABEL, dtype: int64"
      ]
     },
     "execution_count": 22,
     "metadata": {},
     "output_type": "execute_result"
    }
   ],
   "source": [
    "newdf = pd.DataFrame(np.repeat(df_train[df_train['LABEL']==2].values,\n",
    "                               9,axis=0))\n",
    "newdf.columns = df_train.columns\n",
    "df_train_resample = pd.concat([df_train, newdf])\n",
    "\n",
    "df_train_resample['LABEL'].value_counts()"
   ]
  },
  {
   "cell_type": "code",
   "execution_count": 23,
   "metadata": {
    "execution": {
     "iopub.execute_input": "2022-01-23T06:10:00.693691Z",
     "iopub.status.busy": "2022-01-23T06:10:00.692937Z",
     "iopub.status.idle": "2022-01-23T06:10:00.695937Z",
     "shell.execute_reply": "2022-01-23T06:10:00.696366Z"
    }
   },
   "outputs": [],
   "source": [
    "X_train_resample = df_train_resample.iloc[:,1:]\n",
    "y_train_resample = df_train_resample.iloc[:,0]"
   ]
  },
  {
   "cell_type": "code",
   "execution_count": 24,
   "metadata": {
    "execution": {
     "iopub.execute_input": "2022-01-23T06:10:00.701916Z",
     "iopub.status.busy": "2022-01-23T06:10:00.701018Z",
     "iopub.status.idle": "2022-01-23T06:10:03.056105Z",
     "shell.execute_reply": "2022-01-23T06:10:03.055269Z"
    }
   },
   "outputs": [
    {
     "name": "stdout",
     "output_type": "stream",
     "text": [
      "[[86  2]\n",
      " [ 8  4]]\n",
      "              precision    recall  f1-score   support\n",
      "\n",
      "           1       0.91      0.98      0.95        88\n",
      "           2       0.67      0.33      0.44        12\n",
      "\n",
      "    accuracy                           0.90       100\n",
      "   macro avg       0.79      0.66      0.69       100\n",
      "weighted avg       0.89      0.90      0.88       100\n",
      "\n",
      "0.3333333333333333\n"
     ]
    }
   ],
   "source": [
    "# XGBClassifier를 초기화합니다.\n",
    "model = XGBClassifier()\n",
    "\n",
    "# 훈련 세트로 모델을 훈련합니다.\n",
    "model.fit(X_train_resample, y_train_resample)\n",
    "\n",
    "# 테스트 세트에 대해 예측을 만듭니다.\n",
    "y_pred = model.predict(X_test)\n",
    "\n",
    "score = recall_score(y_test, y_pred, pos_label=2)\n",
    "\n",
    "print(confusion_matrix(y_test, y_pred))\n",
    "\n",
    "print(classification_report(y_test, y_pred))\n",
    "\n",
    "print(score)"
   ]
  },
  {
   "cell_type": "markdown",
   "metadata": {},
   "source": [
    "## XGBClassifier 튜닝\n",
    "\n",
    "### 가중치 조정하기\n",
    "\n",
    "#### replace 메서드"
   ]
  },
  {
   "cell_type": "code",
   "execution_count": 25,
   "metadata": {
    "execution": {
     "iopub.execute_input": "2022-01-23T06:10:03.069323Z",
     "iopub.status.busy": "2022-01-23T06:10:03.068466Z",
     "iopub.status.idle": "2022-01-23T06:10:03.072520Z",
     "shell.execute_reply": "2022-01-23T06:10:03.071958Z"
    },
    "scrolled": false
   },
   "outputs": [
    {
     "data": {
      "text/plain": [
       "0    363\n",
       "1     37\n",
       "Name: LABEL, dtype: int64"
      ]
     },
     "execution_count": 25,
     "metadata": {},
     "output_type": "execute_result"
    }
   ],
   "source": [
    "df['LABEL'] = df['LABEL'].replace(1, 0)\n",
    "df['LABEL'] = df['LABEL'].replace(2, 1)\n",
    "\n",
    "df['LABEL'].value_counts()"
   ]
  },
  {
   "cell_type": "markdown",
   "metadata": {},
   "source": [
    "#### scale_pos_weight"
   ]
  },
  {
   "cell_type": "code",
   "execution_count": 26,
   "metadata": {
    "execution": {
     "iopub.execute_input": "2022-01-23T06:10:03.089529Z",
     "iopub.status.busy": "2022-01-23T06:10:03.088729Z",
     "iopub.status.idle": "2022-01-23T06:10:03.092081Z",
     "shell.execute_reply": "2022-01-23T06:10:03.090849Z"
    }
   },
   "outputs": [],
   "source": [
    "# 데이터를 X와 y로 나눕니다.\n",
    "X = df.iloc[:,1:]\n",
    "y = df.iloc[:,0]\n",
    "\n",
    "# 데이터를 훈련 세트와 테스트 세트로 나눕니다.\n",
    "X_train, X_test, y_train, y_test = train_test_split(X, y, random_state=2)"
   ]
  },
  {
   "cell_type": "code",
   "execution_count": 27,
   "metadata": {
    "execution": {
     "iopub.execute_input": "2022-01-23T06:10:03.097642Z",
     "iopub.status.busy": "2022-01-23T06:10:03.096893Z",
     "iopub.status.idle": "2022-01-23T06:10:05.080047Z",
     "shell.execute_reply": "2022-01-23T06:10:05.080528Z"
    }
   },
   "outputs": [
    {
     "name": "stdout",
     "output_type": "stream",
     "text": [
      "[[86  2]\n",
      " [ 8  4]]\n",
      "              precision    recall  f1-score   support\n",
      "\n",
      "           0       0.91      0.98      0.95        88\n",
      "           1       0.67      0.33      0.44        12\n",
      "\n",
      "    accuracy                           0.90       100\n",
      "   macro avg       0.79      0.66      0.69       100\n",
      "weighted avg       0.89      0.90      0.88       100\n",
      "\n",
      "0.3333333333333333\n"
     ]
    }
   ],
   "source": [
    "model = XGBClassifier(scale_pos_weight=10)\n",
    "\n",
    "model.fit(X_train, y_train)\n",
    "\n",
    "# 테스트 세트에 대한 예측을 만듭니다.\n",
    "y_pred = model.predict(X_test)\n",
    "\n",
    "score = recall_score(y_test, y_pred)\n",
    "\n",
    "print(confusion_matrix(y_test, y_pred))\n",
    "\n",
    "print(classification_report(y_test, y_pred))\n",
    "\n",
    "print(score)"
   ]
  },
  {
   "cell_type": "markdown",
   "metadata": {},
   "source": [
    "### XGBClassifier 튜닝\n",
    "\n",
    "#### 기준 모델"
   ]
  },
  {
   "cell_type": "code",
   "execution_count": 28,
   "metadata": {
    "execution": {
     "iopub.execute_input": "2022-01-23T06:10:05.085148Z",
     "iopub.status.busy": "2022-01-23T06:10:05.084489Z",
     "iopub.status.idle": "2022-01-23T06:10:05.086738Z",
     "shell.execute_reply": "2022-01-23T06:10:05.087204Z"
    }
   },
   "outputs": [],
   "source": [
    "from sklearn.model_selection import GridSearchCV, RandomizedSearchCV,StratifiedKFold, cross_val_score"
   ]
  },
  {
   "cell_type": "code",
   "execution_count": 29,
   "metadata": {
    "execution": {
     "iopub.execute_input": "2022-01-23T06:10:05.092169Z",
     "iopub.status.busy": "2022-01-23T06:10:05.091454Z",
     "iopub.status.idle": "2022-01-23T06:10:08.176681Z",
     "shell.execute_reply": "2022-01-23T06:10:08.176052Z"
    },
    "scrolled": true
   },
   "outputs": [
    {
     "name": "stdout",
     "output_type": "stream",
     "text": [
      "재현율:  [0.10526316 0.27777778]\n",
      "재현율 평균:  0.1915204678362573\n"
     ]
    }
   ],
   "source": [
    "kfold = StratifiedKFold(n_splits=2, shuffle=True, random_state=2)\n",
    "\n",
    "model = XGBClassifier(scale_pos_weight=10)\n",
    "\n",
    "# 교차 검증 점수를 계산합니다.\n",
    "scores = cross_val_score(model, X, y, cv=kfold, scoring='recall')\n",
    "\n",
    "# 재현율을 출력합니다.\n",
    "print('재현율: ', scores)\n",
    "\n",
    "# 재현율의 평균을 출력합니다.\n",
    "print('재현율 평균: ', scores.mean())"
   ]
  },
  {
   "cell_type": "markdown",
   "metadata": {},
   "source": [
    "#### grid_search"
   ]
  },
  {
   "cell_type": "code",
   "execution_count": 30,
   "metadata": {
    "execution": {
     "iopub.execute_input": "2022-01-23T06:10:08.179786Z",
     "iopub.status.busy": "2022-01-23T06:10:08.179123Z",
     "iopub.status.idle": "2022-01-23T06:10:08.184949Z",
     "shell.execute_reply": "2022-01-23T06:10:08.184398Z"
    }
   },
   "outputs": [],
   "source": [
    "def grid_search(params, random=False, X=X, y=y, \n",
    "                model=XGBClassifier(scale_pos_weight=10, random_state=2)): \n",
    "    \n",
    "    xgb = model\n",
    "    \n",
    "    if random:\n",
    "        grid = RandomizedSearchCV(xgb, params, cv=kfold, n_jobs=-1, \n",
    "                                  random_state=2, scoring='recall')\n",
    "    else:\n",
    "        # 그리드 서치 객체를 초기화합니다.\n",
    "        grid = GridSearchCV(xgb, params, cv=kfold, n_jobs=-1, scoring='recall')\n",
    "    \n",
    "    # X_train와 y_train으로 훈련합니다.\n",
    "    grid.fit(X, y)\n",
    "\n",
    "    # 최상의 매개변수를 추출합니다.\n",
    "    best_params = grid.best_params_\n",
    "\n",
    "    # 최상의 매개변수를 출력합니다.\n",
    "    print(\"최상의 매개변수:\", best_params)\n",
    "    \n",
    "    # 최상의 점수를 추출합니다.\n",
    "    best_score = grid.best_score_\n",
    "\n",
    "    # 최상의 점수를 출력합니다.\n",
    "    print(\"최상의 점수: {:.5f}\".format(best_score))"
   ]
  },
  {
   "cell_type": "code",
   "execution_count": 31,
   "metadata": {
    "execution": {
     "iopub.execute_input": "2022-01-23T06:10:08.190068Z",
     "iopub.status.busy": "2022-01-23T06:10:08.189404Z",
     "iopub.status.idle": "2022-01-23T06:13:15.098580Z",
     "shell.execute_reply": "2022-01-23T06:13:15.099032Z"
    }
   },
   "outputs": [
    {
     "name": "stdout",
     "output_type": "stream",
     "text": [
      "최상의 매개변수: {'n_estimators': 50}\n",
      "최상의 점수: 0.19152\n"
     ]
    }
   ],
   "source": [
    "grid_search(params={'n_estimators':[50, 200, 400, 800]})"
   ]
  },
  {
   "cell_type": "code",
   "execution_count": 32,
   "metadata": {
    "execution": {
     "iopub.execute_input": "2022-01-23T06:13:15.105405Z",
     "iopub.status.busy": "2022-01-23T06:13:15.104753Z",
     "iopub.status.idle": "2022-01-23T06:15:38.064406Z",
     "shell.execute_reply": "2022-01-23T06:15:38.063823Z"
    },
    "scrolled": true
   },
   "outputs": [
    {
     "name": "stdout",
     "output_type": "stream",
     "text": [
      "최상의 매개변수: {'learning_rate': 0.01}\n",
      "최상의 점수: 0.40351\n"
     ]
    }
   ],
   "source": [
    "grid_search(params={'learning_rate':[0.01, 0.05, 0.2, 0.3]})"
   ]
  },
  {
   "cell_type": "code",
   "execution_count": 33,
   "metadata": {
    "execution": {
     "iopub.execute_input": "2022-01-23T06:15:38.070433Z",
     "iopub.status.busy": "2022-01-23T06:15:38.069487Z",
     "iopub.status.idle": "2022-01-23T06:16:49.749998Z",
     "shell.execute_reply": "2022-01-23T06:16:49.750452Z"
    }
   },
   "outputs": [
    {
     "name": "stdout",
     "output_type": "stream",
     "text": [
      "최상의 매개변수: {'max_depth': 2}\n",
      "최상의 점수: 0.24415\n"
     ]
    }
   ],
   "source": [
    "grid_search(params={'max_depth':[1, 2, 4, 8]})"
   ]
  },
  {
   "cell_type": "code",
   "execution_count": 34,
   "metadata": {
    "execution": {
     "iopub.execute_input": "2022-01-23T06:16:49.755814Z",
     "iopub.status.busy": "2022-01-23T06:16:49.755136Z",
     "iopub.status.idle": "2022-01-23T06:18:10.382347Z",
     "shell.execute_reply": "2022-01-23T06:18:10.382830Z"
    }
   },
   "outputs": [
    {
     "name": "stdout",
     "output_type": "stream",
     "text": [
      "최상의 매개변수: {'subsample': 0.3}\n",
      "최상의 점수: 0.24561\n"
     ]
    }
   ],
   "source": [
    "grid_search(params={'subsample':[0.3, 0.5, 0.7, 0.9]})"
   ]
  },
  {
   "cell_type": "code",
   "execution_count": 35,
   "metadata": {
    "execution": {
     "iopub.execute_input": "2022-01-23T06:18:10.388300Z",
     "iopub.status.busy": "2022-01-23T06:18:10.387634Z",
     "iopub.status.idle": "2022-01-23T06:19:51.622375Z",
     "shell.execute_reply": "2022-01-23T06:19:51.621821Z"
    }
   },
   "outputs": [
    {
     "name": "stdout",
     "output_type": "stream",
     "text": [
      "최상의 매개변수: {'gamma': 0.05}\n",
      "최상의 점수: 0.24415\n"
     ]
    }
   ],
   "source": [
    "grid_search(params={'gamma':[0.05, 0.1, 0.5, 1]})"
   ]
  },
  {
   "cell_type": "code",
   "execution_count": 36,
   "metadata": {
    "execution": {
     "iopub.execute_input": "2022-01-23T06:19:51.626791Z",
     "iopub.status.busy": "2022-01-23T06:19:51.626181Z",
     "iopub.status.idle": "2022-01-23T06:25:18.330016Z",
     "shell.execute_reply": "2022-01-23T06:25:18.330437Z"
    }
   },
   "outputs": [
    {
     "name": "stdout",
     "output_type": "stream",
     "text": [
      "최상의 매개변수: {'gamma': 0.025, 'learning_rate': 0.001, 'max_depth': 2}\n",
      "최상의 점수: 0.53509\n"
     ]
    }
   ],
   "source": [
    "grid_search(params={'learning_rate':[0.001, 0.01, 0.03], \n",
    "                    'max_depth':[1, 2], 'gamma':[0.025, 0.05, 0.5]})"
   ]
  },
  {
   "cell_type": "code",
   "execution_count": 37,
   "metadata": {
    "execution": {
     "iopub.execute_input": "2022-01-23T06:25:18.333668Z",
     "iopub.status.busy": "2022-01-23T06:25:18.333036Z",
     "iopub.status.idle": "2022-01-23T06:26:38.291423Z",
     "shell.execute_reply": "2022-01-23T06:26:38.291875Z"
    }
   },
   "outputs": [
    {
     "name": "stdout",
     "output_type": "stream",
     "text": [
      "최상의 매개변수: {'max_delta_step': 1}\n",
      "최상의 점수: 0.24415\n"
     ]
    }
   ],
   "source": [
    "grid_search(params={'max_delta_step':[1, 3, 5, 7]})"
   ]
  },
  {
   "cell_type": "code",
   "execution_count": 38,
   "metadata": {
    "execution": {
     "iopub.execute_input": "2022-01-23T06:26:38.295246Z",
     "iopub.status.busy": "2022-01-23T06:26:38.294597Z",
     "iopub.status.idle": "2022-01-23T06:29:58.570588Z",
     "shell.execute_reply": "2022-01-23T06:29:58.571044Z"
    }
   },
   "outputs": [
    {
     "name": "stdout",
     "output_type": "stream",
     "text": [
      "최상의 매개변수: {'subsample': 0.3, 'colsample_bytree': 0.7, 'colsample_bynode': 0.7, 'colsample_bylevel': 1}\n",
      "최상의 점수: 0.37865\n"
     ]
    }
   ],
   "source": [
    "grid_search(params={'subsample':[0.3, 0.5, 0.7, 0.9, 1], \n",
    "                    'colsample_bylevel':[0.3, 0.5, 0.7, 0.9, 1], \n",
    "                    'colsample_bynode':[0.3, 0.5, 0.7, 0.9, 1], \n",
    "                    'colsample_bytree':[0.3, 0.5, 0.7, 0.9, 1]}, random=True)"
   ]
  },
  {
   "cell_type": "markdown",
   "metadata": {},
   "source": [
    "#### 균형잡힌 서브셋"
   ]
  },
  {
   "cell_type": "code",
   "execution_count": 39,
   "metadata": {
    "execution": {
     "iopub.execute_input": "2022-01-23T06:29:58.574201Z",
     "iopub.status.busy": "2022-01-23T06:29:58.573567Z",
     "iopub.status.idle": "2022-01-23T06:29:58.576785Z",
     "shell.execute_reply": "2022-01-23T06:29:58.577218Z"
    }
   },
   "outputs": [],
   "source": [
    "X_short = X.iloc[:74, :]\n",
    "y_short = y.iloc[:74]"
   ]
  },
  {
   "cell_type": "code",
   "execution_count": 40,
   "metadata": {
    "execution": {
     "iopub.execute_input": "2022-01-23T06:29:58.580177Z",
     "iopub.status.busy": "2022-01-23T06:29:58.579575Z",
     "iopub.status.idle": "2022-01-23T06:31:47.229407Z",
     "shell.execute_reply": "2022-01-23T06:31:47.228757Z"
    },
    "scrolled": true
   },
   "outputs": [
    {
     "name": "stdout",
     "output_type": "stream",
     "text": [
      "최상의 매개변수: {'colsample_bynode': 0.5, 'max_depth': 1}\n",
      "최상의 점수: 0.65205\n"
     ]
    }
   ],
   "source": [
    "grid_search(params={'max_depth':[1, 2, 3], \n",
    "                    'colsample_bynode':[0.5, 0.75, 1]}, \n",
    "            X=X_short, y=y_short, \n",
    "            model=XGBClassifier(random_state=2))"
   ]
  },
  {
   "cell_type": "markdown",
   "metadata": {},
   "source": [
    "#### 전체 데이터로 튜닝하기"
   ]
  },
  {
   "cell_type": "code",
   "execution_count": 41,
   "metadata": {
    "execution": {
     "iopub.execute_input": "2022-01-23T06:31:47.235035Z",
     "iopub.status.busy": "2022-01-23T06:31:47.234399Z",
     "iopub.status.idle": "2022-01-23T06:31:50.969521Z",
     "shell.execute_reply": "2022-01-23T06:31:50.969976Z"
    }
   },
   "outputs": [],
   "source": [
    "df_all = pd.read_csv('exoplanets.csv')\n",
    "df_all['LABEL'] = df_all['LABEL'].replace(1, 0)\n",
    "df_all['LABEL'] = df_all['LABEL'].replace(2, 1)\n",
    "\n",
    "X_all = df_all.iloc[:,1:]\n",
    "y_all = df_all.iloc[:,0]"
   ]
  },
  {
   "cell_type": "code",
   "execution_count": 42,
   "metadata": {
    "execution": {
     "iopub.execute_input": "2022-01-23T06:31:50.976034Z",
     "iopub.status.busy": "2022-01-23T06:31:50.975424Z",
     "iopub.status.idle": "2022-01-23T06:31:50.977911Z",
     "shell.execute_reply": "2022-01-23T06:31:50.978299Z"
    }
   },
   "outputs": [
    {
     "data": {
      "text/plain": [
       "0    5050\n",
       "1      37\n",
       "Name: LABEL, dtype: int64"
      ]
     },
     "execution_count": 42,
     "metadata": {},
     "output_type": "execute_result"
    }
   ],
   "source": [
    "df_all['LABEL'].value_counts()"
   ]
  },
  {
   "cell_type": "code",
   "execution_count": 43,
   "metadata": {
    "execution": {
     "iopub.execute_input": "2022-01-23T06:31:50.982114Z",
     "iopub.status.busy": "2022-01-23T06:31:50.981460Z",
     "iopub.status.idle": "2022-01-23T06:31:50.983787Z",
     "shell.execute_reply": "2022-01-23T06:31:50.983227Z"
    }
   },
   "outputs": [],
   "source": [
    "weight = int(5050/37)"
   ]
  },
  {
   "cell_type": "code",
   "execution_count": 44,
   "metadata": {
    "execution": {
     "iopub.execute_input": "2022-01-23T06:31:50.989639Z",
     "iopub.status.busy": "2022-01-23T06:31:50.988989Z",
     "iopub.status.idle": "2022-01-23T06:32:13.099987Z",
     "shell.execute_reply": "2022-01-23T06:32:13.100450Z"
    }
   },
   "outputs": [
    {
     "name": "stdout",
     "output_type": "stream",
     "text": [
      "재현율: [0.10526316 0.        ]\n",
      "재현율 평균: 0.05263157894736842\n"
     ]
    }
   ],
   "source": [
    "model = XGBClassifier(scale_pos_weight=weight)\n",
    "\n",
    "# 교차 검증 점수를 계산합니다.\n",
    "scores = cross_val_score(model, X_all, y_all, cv=kfold, scoring='recall')\n",
    "\n",
    "# 재현율을 출력합니다.\n",
    "print('재현율:', scores)\n",
    "\n",
    "# 재현율의 평균을 출력합니다.\n",
    "print('재현율 평균:', scores.mean())"
   ]
  },
  {
   "cell_type": "code",
   "execution_count": 45,
   "metadata": {
    "execution": {
     "iopub.execute_input": "2022-01-23T06:32:13.105463Z",
     "iopub.status.busy": "2022-01-23T06:32:13.104834Z",
     "iopub.status.idle": "2022-01-23T06:36:29.234310Z",
     "shell.execute_reply": "2022-01-23T06:36:29.233745Z"
    }
   },
   "outputs": [
    {
     "name": "stdout",
     "output_type": "stream",
     "text": [
      "최상의 매개변수: {'learning_rate': 0.001}\n",
      "최상의 점수: 0.26316\n"
     ]
    }
   ],
   "source": [
    "grid_search(params={'learning_rate':[0.001, 0.01]}, X=X_all, y=y_all, \n",
    "            model=XGBClassifier(scale_pos_weight=weight))"
   ]
  },
  {
   "cell_type": "code",
   "execution_count": 46,
   "metadata": {
    "execution": {
     "iopub.execute_input": "2022-01-23T06:36:29.240103Z",
     "iopub.status.busy": "2022-01-23T06:36:29.239369Z",
     "iopub.status.idle": "2022-01-23T06:38:04.719729Z",
     "shell.execute_reply": "2022-01-23T06:38:04.720198Z"
    }
   },
   "outputs": [
    {
     "name": "stdout",
     "output_type": "stream",
     "text": [
      "최상의 매개변수: {'learning_rate': 0.001, 'max_depth': 2}\n",
      "최상의 점수: 0.53509\n"
     ]
    }
   ],
   "source": [
    "grid_search(params={'max_depth':[1, 2],'learning_rate':[0.001]}, X=X_all, y=y_all, \n",
    "            model=XGBClassifier(scale_pos_weight=weight))"
   ]
  },
  {
   "cell_type": "markdown",
   "metadata": {},
   "source": [
    "### 결과 통합"
   ]
  },
  {
   "cell_type": "code",
   "execution_count": 47,
   "metadata": {
    "execution": {
     "iopub.execute_input": "2022-01-23T06:38:04.726280Z",
     "iopub.status.busy": "2022-01-23T06:38:04.725453Z",
     "iopub.status.idle": "2022-01-23T06:38:04.728508Z",
     "shell.execute_reply": "2022-01-23T06:38:04.727959Z"
    }
   },
   "outputs": [],
   "source": [
    "def final_model(X, y, model):\n",
    "    model.fit(X, y)\n",
    "    y_pred = model.predict(X_all)\n",
    "    score = recall_score(y_all, y_pred)\n",
    "    print(score)\n",
    "    print(confusion_matrix(y_all, y_pred))\n",
    "    print(classification_report(y_all, y_pred))"
   ]
  },
  {
   "cell_type": "markdown",
   "metadata": {},
   "source": [
    "#### 74개 샘플"
   ]
  },
  {
   "cell_type": "code",
   "execution_count": 48,
   "metadata": {
    "execution": {
     "iopub.execute_input": "2022-01-23T06:38:04.763254Z",
     "iopub.status.busy": "2022-01-23T06:38:04.734110Z",
     "iopub.status.idle": "2022-01-23T06:38:05.953152Z",
     "shell.execute_reply": "2022-01-23T06:38:05.953646Z"
    }
   },
   "outputs": [
    {
     "name": "stdout",
     "output_type": "stream",
     "text": [
      "1.0\n",
      "[[3588 1462]\n",
      " [   0   37]]\n",
      "              precision    recall  f1-score   support\n",
      "\n",
      "           0       1.00      0.71      0.83      5050\n",
      "           1       0.02      1.00      0.05        37\n",
      "\n",
      "    accuracy                           0.71      5087\n",
      "   macro avg       0.51      0.86      0.44      5087\n",
      "weighted avg       0.99      0.71      0.83      5087\n",
      "\n"
     ]
    }
   ],
   "source": [
    "final_model(X_short, y_short, \n",
    "            XGBClassifier(max_depth=2, colsample_by_node=0.5, \n",
    "                          random_state=2))"
   ]
  },
  {
   "cell_type": "markdown",
   "metadata": {},
   "source": [
    "#### 400개 샘플"
   ]
  },
  {
   "cell_type": "code",
   "execution_count": 49,
   "metadata": {
    "execution": {
     "iopub.execute_input": "2022-01-23T06:38:05.958298Z",
     "iopub.status.busy": "2022-01-23T06:38:05.955986Z",
     "iopub.status.idle": "2022-01-23T06:38:07.961165Z",
     "shell.execute_reply": "2022-01-23T06:38:07.961627Z"
    }
   },
   "outputs": [
    {
     "name": "stdout",
     "output_type": "stream",
     "text": [
      "1.0\n",
      "[[4897  153]\n",
      " [   0   37]]\n",
      "              precision    recall  f1-score   support\n",
      "\n",
      "           0       1.00      0.97      0.98      5050\n",
      "           1       0.19      1.00      0.33        37\n",
      "\n",
      "    accuracy                           0.97      5087\n",
      "   macro avg       0.60      0.98      0.66      5087\n",
      "weighted avg       0.99      0.97      0.98      5087\n",
      "\n"
     ]
    }
   ],
   "source": [
    "final_model(X, y, \n",
    "            XGBClassifier(max_depth=2, colsample_bynode=0.5, \n",
    "                          scale_pos_weight=10, random_state=2))"
   ]
  },
  {
   "cell_type": "markdown",
   "metadata": {},
   "source": [
    "#### 5,050개 샘플"
   ]
  },
  {
   "cell_type": "code",
   "execution_count": 50,
   "metadata": {
    "execution": {
     "iopub.execute_input": "2022-01-23T06:38:07.966330Z",
     "iopub.status.busy": "2022-01-23T06:38:07.964191Z",
     "iopub.status.idle": "2022-01-23T06:38:21.882416Z",
     "shell.execute_reply": "2022-01-23T06:38:21.882833Z"
    }
   },
   "outputs": [
    {
     "name": "stdout",
     "output_type": "stream",
     "text": [
      "1.0\n",
      "[[5050    0]\n",
      " [   0   37]]\n",
      "              precision    recall  f1-score   support\n",
      "\n",
      "           0       1.00      1.00      1.00      5050\n",
      "           1       1.00      1.00      1.00        37\n",
      "\n",
      "    accuracy                           1.00      5087\n",
      "   macro avg       1.00      1.00      1.00      5087\n",
      "weighted avg       1.00      1.00      1.00      5087\n",
      "\n"
     ]
    }
   ],
   "source": [
    "final_model(X_all, y_all, \n",
    "            XGBClassifier(max_depth=2, colsample_bynode=0.5, \n",
    "                          scale_pos_weight=weight, random_state=2))"
   ]
  }
 ],
 "metadata": {
  "kernelspec": {
   "display_name": "Python 3 (ipykernel)",
   "language": "python",
   "name": "python3"
  },
  "language_info": {
   "codemirror_mode": {
    "name": "ipython",
    "version": 3
   },
   "file_extension": ".py",
   "mimetype": "text/x-python",
   "name": "python",
   "nbconvert_exporter": "python",
   "pygments_lexer": "ipython3",
   "version": "3.7.3"
  }
 },
 "nbformat": 4,
 "nbformat_minor": 4
}
